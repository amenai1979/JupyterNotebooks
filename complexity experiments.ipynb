{
 "cells": [
  {
   "cell_type": "code",
   "execution_count": 56,
   "metadata": {},
   "outputs": [],
   "source": [
    "#find the minimum\n",
    "import numpy as np\n",
    "from time import time\n",
    "\n",
    "def generateRandomSet(n):\n",
    "    randomList=list(range(n))\n",
    "    np.random.shuffle(randomList)\n",
    "    return randomList\n",
    "randomList=generateRandomSet(10)"
   ]
  },
  {
   "cell_type": "code",
   "execution_count": 57,
   "metadata": {},
   "outputs": [
    {
     "name": "stdout",
     "output_type": "stream",
     "text": [
      "[4, 5, 8, 9, 3, 6, 7, 0, 2, 1]\n"
     ]
    },
    {
     "data": {
      "text/plain": [
       "(0, 1.8835067749023438e-05)"
      ]
     },
     "execution_count": 57,
     "metadata": {},
     "output_type": "execute_result"
    }
   ],
   "source": [
    "#finding the minimum algorithm 1\n",
    "#compare each item with every other item and picj the one that is the smallest\n",
    "\n",
    "def minimum1(randomList):\n",
    "    start=time()\n",
    "    for i in randomList:\n",
    "        for j in randomList:\n",
    "            if i>j:\n",
    "                break\n",
    "            if randomList.index(j)==len(randomList)-1: #iterated over all elements\n",
    "                stop=time()\n",
    "                return i,stop-start\n",
    "            \n",
    "print(randomList)\n",
    "minimum1(randomList)\n",
    "\n"
   ]
  },
  {
   "cell_type": "code",
   "execution_count": 58,
   "metadata": {},
   "outputs": [
    {
     "name": "stdout",
     "output_type": "stream",
     "text": [
      "[5, 9, 8, 2, 4, 7, 1, 6, 3, 0]\n"
     ]
    },
    {
     "data": {
      "text/plain": [
       "(1, 6.198883056640625e-06)"
      ]
     },
     "execution_count": 58,
     "metadata": {},
     "output_type": "execute_result"
    }
   ],
   "source": [
    "np.random.shuffle(randomList)\n",
    "print(randomList)\n",
    "minimum(randomList)"
   ]
  },
  {
   "cell_type": "code",
   "execution_count": 59,
   "metadata": {},
   "outputs": [
    {
     "name": "stdout",
     "output_type": "stream",
     "text": [
      "[6, 7, 9, 5, 4, 1, 3, 8, 2, 0]\n"
     ]
    },
    {
     "data": {
      "text/plain": [
       "(1, 7.867813110351562e-06)"
      ]
     },
     "execution_count": 59,
     "metadata": {},
     "output_type": "execute_result"
    }
   ],
   "source": [
    "np.random.shuffle(randomList)\n",
    "print(randomList)\n",
    "minimum(randomList)"
   ]
  },
  {
   "cell_type": "code",
   "execution_count": 60,
   "metadata": {},
   "outputs": [
    {
     "name": "stdout",
     "output_type": "stream",
     "text": [
      "[6, 7, 9, 5, 4, 1, 3, 8, 2, 0]\n"
     ]
    },
    {
     "data": {
      "text/plain": [
       "(1, 3.0994415283203125e-06)"
      ]
     },
     "execution_count": 60,
     "metadata": {},
     "output_type": "execute_result"
    }
   ],
   "source": [
    "#finding the minimum algorithm 2\n",
    "#compare each item with every other item and picj the one that is the smallest\n",
    "\n",
    "def minimum2(randomList):\n",
    "    start=time()\n",
    "    i=0\n",
    "    length=len(randomList)\n",
    "    minimum=randomList[i]\n",
    "    while i < length-2:\n",
    "        if minimum > randomList[i+1]:\n",
    "            minimum=randomList[i+1]\n",
    "        i += 1\n",
    "    stop=time()\n",
    "    return minimum,stop-start\n",
    "print(randomList)\n",
    "minimum2(randomList)"
   ]
  },
  {
   "cell_type": "code",
   "execution_count": 62,
   "metadata": {},
   "outputs": [
    {
     "name": "stdout",
     "output_type": "stream",
     "text": [
      "[0]\n",
      "[1, 0]\n",
      "[1, 0, 2]\n",
      "[2, 3, 1, 0]\n",
      "[1, 4, 2, 3, 0]\n",
      "[0, 5, 2, 1, 4, 3]\n",
      "[6, 5, 4, 2, 0, 1, 3]\n",
      "[6, 3, 0, 1, 5, 7, 2, 4]\n",
      "[6, 8, 4, 1, 7, 3, 5, 0, 2]\n",
      "{1: 3.814697265625e-06, 2: 3.0994415283203125e-06, 3: 2.86102294921875e-06, 4: 5.7220458984375e-06, 5: 5.9604644775390625e-06, 6: 4.291534423828125e-06, 7: 1.0013580322265625e-05, 8: 6.9141387939453125e-06, 9: 1.4781951904296875e-05}\n",
      "{1: 1.9073486328125e-06, 2: 1.1920928955078125e-06, 3: 2.1457672119140625e-06, 4: 1.9073486328125e-06, 5: 1.9073486328125e-06, 6: 2.1457672119140625e-06, 7: 2.6226043701171875e-06, 8: 2.1457672119140625e-06, 9: 3.0994415283203125e-06}\n"
     ]
    }
   ],
   "source": [
    "algo1,algo2={},{}\n",
    "for n in range(1,10):\n",
    "    mylist=generateRandomSet(n)\n",
    "    print(mylist)\n",
    "    run1=minimum1(mylist)\n",
    "    run2=minimum2(mylist)\n",
    "    algo1[n]=run1[1]\n",
    "    algo2[n]=run2[1]\n",
    "print(algo1)\n",
    "print(algo2)"
   ]
  },
  {
   "cell_type": "markdown",
   "metadata": {},
   "source": [
    "# Complexity of Basic Functions in Python"
   ]
  },
  {
   "cell_type": "markdown",
   "metadata": {},
   "source": [
    "## complexity of lists"
   ]
  },
  {
   "cell_type": "raw",
   "metadata": {},
   "source": [
    "Operation\tBig-O Efficiency\n",
    "\n",
    "index []\tO(1)\n",
    "index assignment\tO(1)\n",
    "append\tO(1)\n",
    "pop()\tO(1)\n",
    "pop(i)\tO(n)\n",
    "insert(i,item)\tO(n)\n",
    "del operator\tO(n)\n",
    "iteration\tO(n)\n",
    "contains (in)\tO(n)\n",
    "get slice [x:y]\tO(k)\n",
    "del slice\tO(n)\n",
    "set slice\tO(n+k)\n",
    "reverse\tO(n)\n",
    "concatenate\tO(k)\n",
    "sort\tO(n log n)\n",
    "multiply\tO(nk)"
   ]
  },
  {
   "cell_type": "markdown",
   "metadata": {},
   "source": [
    "## Complexity of dicts\n"
   ]
  },
  {
   "cell_type": "raw",
   "metadata": {},
   "source": [
    "copy\tO(n)\n",
    "get item\tO(1)\n",
    "set item\tO(1)\n",
    "delete item\tO(1)\n",
    "contains (in)\tO(1)\n",
    "iteration\tO(n)"
   ]
  },
  {
   "cell_type": "code",
   "execution_count": null,
   "metadata": {},
   "outputs": [],
   "source": []
  }
 ],
 "metadata": {
  "kernelspec": {
   "display_name": "Python 3",
   "language": "python",
   "name": "python3"
  },
  "language_info": {
   "codemirror_mode": {
    "name": "ipython",
    "version": 3
   },
   "file_extension": ".py",
   "mimetype": "text/x-python",
   "name": "python",
   "nbconvert_exporter": "python",
   "pygments_lexer": "ipython3",
   "version": "3.7.1"
  }
 },
 "nbformat": 4,
 "nbformat_minor": 2
}
