{
 "cells": [
  {
   "cell_type": "code",
   "execution_count": 7,
   "metadata": {},
   "outputs": [
    {
     "name": "stdout",
     "output_type": "stream",
     "text": [
      "[1]\n",
      "[1, 1]\n",
      "[2, 1]\n",
      "[1, 2, 1, 1]\n",
      "[1, 1, 1, 2, 2, 1]\n",
      "[3, 1, 2, 2, 1, 1]\n",
      "[1, 3, 1, 1, 2, 2, 2, 1]\n",
      "[1, 1, 1, 3, 2, 1, 3, 2, 1, 1]\n",
      "[3, 1, 1, 3, 1, 2, 1, 1, 1, 3, 1, 2, 2, 1]\n",
      "[1, 3, 2, 1, 1, 3, 1, 1, 1, 2, 3, 1, 1, 3, 1, 1, 2, 2, 1, 1]\n",
      "[1, 1, 1, 3, 1, 2, 2, 1, 1, 3, 3, 1, 1, 2, 1, 3, 2, 1, 1, 3, 2, 1, 2, 2, 2, 1]\n"
     ]
    }
   ],
   "source": [
    "#generate the following sequence\n",
    "\"\"\"\n",
    "1\n",
    "11\n",
    "21\n",
    "1211\n",
    "111221\n",
    "312211\n",
    "13112221\n",
    "1113213211\n",
    "....\n",
    "\"\"\"\n",
    "#have 2 sequences:\n",
    "#The look sequence \n",
    "#The say sequence\n",
    "#The say sequence is generated at every step out of the look sequence by:\n",
    "#identifying the item in the say sequence\n",
    "#identifyuing the contiguous repetitions of the item in the say sequence\n",
    "#once the items and repetitions are recorded we generate the say sequence\n",
    "#the look sequence is now the say sequence\n",
    "#we repeat a specific number of times.\n",
    "#OK let's code this up\n",
    "lookSequence=[1]\n",
    "saySequence=[]\n",
    "repetitions=1\n",
    "nsteps=10\n",
    "k=0\n",
    "print(lookSequence)\n",
    "\n",
    "while k < nsteps:\n",
    "    i=0\n",
    "    while i in range(len(lookSequence)):\n",
    "        if i!=len(lookSequence)-1:#if this is not the last elment in the list\n",
    "            if lookSequence[i]==lookSequence[i+1]:\n",
    "                repetitions +=1\n",
    "            else:\n",
    "                saySequence.append(repetitions)\n",
    "                saySequence.append(lookSequence[i])\n",
    "                repetitions=1\n",
    "        else:#last element in the list\n",
    "            if i==0 or lookSequence[i]!=lookSequence[i-1]:\n",
    "                repetitions = 1\n",
    "            saySequence.append(repetitions)\n",
    "            saySequence.append(lookSequence[i])\n",
    "            repetitions=1\n",
    "        i += 1\n",
    "    k += 1\n",
    "    print(saySequence)\n",
    "    lookSequence=saySequence\n",
    "    saySequence=[]"
   ]
  },
  {
   "cell_type": "code",
   "execution_count": null,
   "metadata": {},
   "outputs": [],
   "source": []
  }
 ],
 "metadata": {
  "kernelspec": {
   "display_name": "Python 3",
   "language": "python",
   "name": "python3"
  },
  "language_info": {
   "codemirror_mode": {
    "name": "ipython",
    "version": 3
   },
   "file_extension": ".py",
   "mimetype": "text/x-python",
   "name": "python",
   "nbconvert_exporter": "python",
   "pygments_lexer": "ipython3",
   "version": "3.7.1"
  }
 },
 "nbformat": 4,
 "nbformat_minor": 2
}
