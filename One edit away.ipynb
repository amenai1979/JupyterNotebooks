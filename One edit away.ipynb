{
 "cells": [
  {
   "cell_type": "code",
   "execution_count": 60,
   "metadata": {},
   "outputs": [],
   "source": [
    "\"\"\"\n",
    "Write a function that returns whether two words are exactly \"one edit\" away using the following signature:\n",
    "bool OneEditApart(string s1, string s2);\n",
    "An edit is:\n",
    "Inserting one character anywhere in the word (including at the beginning and end)\n",
    "Removing one character\n",
    "Replacing one character\n",
    "Examples:\n",
    "OneEditApart(\"cat\", \"dog\") = false \n",
    "OneEditApart(\"cat\", \"cats\") = true\n",
    "OneEditApart(\"cat\", \"cut\") = true\n",
    "OneEditApart(\"cat\", \"cast\") = true\n",
    "OneEditApart(\"cat\", \"at\") = true\n",
    "OneEditApart(\"cat\", \"act\") = false\n",
    "\"\"\"\n",
    "def OneEditApart(s1,s2):\n",
    "    l1=len(s1)\n",
    "    l2=len(s2)\n",
    "    if (abs(l1-l2) > 1) or (set(list(s1))==set(list(s2))):\n",
    "        return False\n",
    "    elif (set(list(s1)) <= set(list(s2))) or (set(list(s2)) <= set(list(s1))) or (len (set(list(s2)) - set(list(s1)))==1):\n",
    "        return True\n",
    "    else:\n",
    "        return False\n",
    "        \n",
    " "
   ]
  },
  {
   "cell_type": "code",
   "execution_count": 61,
   "metadata": {},
   "outputs": [
    {
     "data": {
      "text/plain": [
       "False"
      ]
     },
     "execution_count": 61,
     "metadata": {},
     "output_type": "execute_result"
    }
   ],
   "source": [
    "OneEditApart(\"cat\", \"dog\")\n"
   ]
  },
  {
   "cell_type": "code",
   "execution_count": 62,
   "metadata": {},
   "outputs": [
    {
     "data": {
      "text/plain": [
       "True"
      ]
     },
     "execution_count": 62,
     "metadata": {},
     "output_type": "execute_result"
    }
   ],
   "source": [
    "OneEditApart(\"cat\", \"cats\")"
   ]
  },
  {
   "cell_type": "code",
   "execution_count": 63,
   "metadata": {},
   "outputs": [
    {
     "data": {
      "text/plain": [
       "False"
      ]
     },
     "execution_count": 63,
     "metadata": {},
     "output_type": "execute_result"
    }
   ],
   "source": [
    "OneEditApart(\"cat\", \"cut\")"
   ]
  },
  {
   "cell_type": "code",
   "execution_count": 58,
   "metadata": {},
   "outputs": [
    {
     "data": {
      "text/plain": [
       "True"
      ]
     },
     "execution_count": 58,
     "metadata": {},
     "output_type": "execute_result"
    }
   ],
   "source": [
    "OneEditApart(\"cat\", \"cast\")"
   ]
  },
  {
   "cell_type": "code",
   "execution_count": 59,
   "metadata": {},
   "outputs": [
    {
     "data": {
      "text/plain": [
       "True"
      ]
     },
     "execution_count": 59,
     "metadata": {},
     "output_type": "execute_result"
    }
   ],
   "source": [
    "OneEditApart(\"cat\", \"at\")"
   ]
  },
  {
   "cell_type": "code",
   "execution_count": 53,
   "metadata": {},
   "outputs": [
    {
     "data": {
      "text/plain": [
       "False"
      ]
     },
     "execution_count": 53,
     "metadata": {},
     "output_type": "execute_result"
    }
   ],
   "source": [
    "OneEditApart(\"cat\", \"act\")"
   ]
  },
  {
   "cell_type": "code",
   "execution_count": null,
   "metadata": {},
   "outputs": [],
   "source": []
  }
 ],
 "metadata": {
  "kernelspec": {
   "display_name": "Python 3",
   "language": "python",
   "name": "python3"
  },
  "language_info": {
   "codemirror_mode": {
    "name": "ipython",
    "version": 3
   },
   "file_extension": ".py",
   "mimetype": "text/x-python",
   "name": "python",
   "nbconvert_exporter": "python",
   "pygments_lexer": "ipython3",
   "version": "3.7.1"
  }
 },
 "nbformat": 4,
 "nbformat_minor": 2
}
