{
 "cells": [
  {
   "cell_type": "markdown",
   "metadata": {},
   "source": [
    "# Stack (Pile)"
   ]
  },
  {
   "cell_type": "code",
   "execution_count": 1,
   "metadata": {},
   "outputs": [],
   "source": [
    "class Stack(object):\n",
    "    def __init__(self):\n",
    "        self.items=[]\n",
    "    def push(self,*args):\n",
    "        for i in args:\n",
    "            self.items.append(i)\n",
    "    def pop(self):\n",
    "        item=self.items[len(self.items)-1]\n",
    "        self.items.remove(item)\n",
    "        return item\n",
    "    def peek(self):\n",
    "        return self.items[self.size()-1]\n",
    "    def size(self):\n",
    "        return len(self.items)\n",
    "    def isEmpty(self):\n",
    "        return not bool(self.size())\n",
    "    \n",
    "        "
   ]
  },
  {
   "cell_type": "code",
   "execution_count": 2,
   "metadata": {},
   "outputs": [
    {
     "name": "stdout",
     "output_type": "stream",
     "text": [
      "True\n",
      "3\n",
      "3\n",
      "2\n",
      "False\n"
     ]
    }
   ],
   "source": [
    "mystack=Stack()\n",
    "print(mystack.isEmpty())\n",
    "mystack.push(1,2,3)\n",
    "print(mystack.peek())\n",
    "print(mystack.pop())\n",
    "print(mystack.size())\n",
    "print(mystack.isEmpty())"
   ]
  },
  {
   "cell_type": "markdown",
   "metadata": {},
   "source": [
    "## reverse function using a stack"
   ]
  },
  {
   "cell_type": "code",
   "execution_count": 3,
   "metadata": {},
   "outputs": [],
   "source": [
    "def reverse(*args):\n",
    "    l=Stack()\n",
    "    for x in args:\n",
    "        l.push(x)\n",
    "    reverse=[]\n",
    "    while not l.isEmpty():\n",
    "        reverse.append(l.pop())\n",
    "    return reverse"
   ]
  },
  {
   "cell_type": "code",
   "execution_count": 4,
   "metadata": {},
   "outputs": [
    {
     "data": {
      "text/plain": [
       "['t', 'a', 'c']"
      ]
     },
     "execution_count": 4,
     "metadata": {},
     "output_type": "execute_result"
    }
   ],
   "source": [
    "reverse('c','a','t')"
   ]
  },
  {
   "cell_type": "markdown",
   "metadata": {},
   "source": [
    "## Balanced Symbols"
   ]
  },
  {
   "cell_type": "code",
   "execution_count": 5,
   "metadata": {},
   "outputs": [],
   "source": [
    "def balancedParantheses(expression):\n",
    "    if not set(list(expression))=={\"(\",\")\"}:\n",
    "        return False\n",
    "    pstack=Stack()\n",
    "    for p in expression:\n",
    "        if p==\"(\":\n",
    "            pstack.push(1)\n",
    "        else:\n",
    "            if pstack.size()>0:\n",
    "                pstack.pop()\n",
    "            else: \n",
    "                return False\n",
    "    if pstack.size() ==0:\n",
    "        return True"
   ]
  },
  {
   "cell_type": "code",
   "execution_count": 6,
   "metadata": {},
   "outputs": [
    {
     "data": {
      "text/plain": [
       "True"
      ]
     },
     "execution_count": 6,
     "metadata": {},
     "output_type": "execute_result"
    }
   ],
   "source": [
    "balancedParantheses(\"()\")"
   ]
  },
  {
   "cell_type": "code",
   "execution_count": 7,
   "metadata": {},
   "outputs": [
    {
     "data": {
      "text/plain": [
       "False"
      ]
     },
     "execution_count": 7,
     "metadata": {},
     "output_type": "execute_result"
    }
   ],
   "source": [
    "balancedParantheses(\")(\")"
   ]
  },
  {
   "cell_type": "code",
   "execution_count": 8,
   "metadata": {},
   "outputs": [
    {
     "data": {
      "text/plain": [
       "True"
      ]
     },
     "execution_count": 8,
     "metadata": {},
     "output_type": "execute_result"
    }
   ],
   "source": [
    "balancedParantheses(\"(()()())\")"
   ]
  },
  {
   "cell_type": "code",
   "execution_count": 9,
   "metadata": {},
   "outputs": [
    {
     "data": {
      "text/plain": [
       "False"
      ]
     },
     "execution_count": 9,
     "metadata": {},
     "output_type": "execute_result"
    }
   ],
   "source": [
    "balancedParantheses(\"(()()()))\")"
   ]
  },
  {
   "cell_type": "code",
   "execution_count": 10,
   "metadata": {},
   "outputs": [],
   "source": [
    "opening=\"({[<\"\n",
    "closing=\")}]>\"\n",
    "def balancedSymbols(expression):\n",
    "    if not set(list(expression))=={\"(\",\")\",\"{\",\"}\",\"[\",\"]\",\"<\",\">\"}:\n",
    "        return False\n",
    "    pstack=Stack()\n",
    "    for p in expression:\n",
    "        if p in opening:\n",
    "            pstack.push(p)\n",
    "        elif p in closing:\n",
    "            if pstack.size()>0 and matchsymbol(pstack.peek(),p):\n",
    "                pstack.pop()\n",
    "            else: \n",
    "                return False\n",
    "    if pstack.size() ==0:\n",
    "        return True\n",
    "def matchsymbol(o: str, c: str):\n",
    "    if closing.index(c)==opening.index(o):\n",
    "        return True\n",
    "    else: \n",
    "        return False"
   ]
  },
  {
   "cell_type": "code",
   "execution_count": 11,
   "metadata": {},
   "outputs": [
    {
     "data": {
      "text/plain": [
       "True"
      ]
     },
     "execution_count": 11,
     "metadata": {},
     "output_type": "execute_result"
    }
   ],
   "source": [
    "balancedSymbols(\"([{<>}])\")"
   ]
  },
  {
   "cell_type": "code",
   "execution_count": 12,
   "metadata": {},
   "outputs": [
    {
     "data": {
      "text/plain": [
       "False"
      ]
     },
     "execution_count": 12,
     "metadata": {},
     "output_type": "execute_result"
    }
   ],
   "source": [
    "balancedSymbols(\"([{<>}]]\")"
   ]
  },
  {
   "cell_type": "code",
   "execution_count": 13,
   "metadata": {},
   "outputs": [
    {
     "data": {
      "text/plain": [
       "True"
      ]
     },
     "execution_count": 13,
     "metadata": {},
     "output_type": "execute_result"
    }
   ],
   "source": [
    "balancedSymbols(\"([{<>}])()\")"
   ]
  },
  {
   "cell_type": "code",
   "execution_count": 14,
   "metadata": {},
   "outputs": [
    {
     "data": {
      "text/plain": [
       "False"
      ]
     },
     "execution_count": 14,
     "metadata": {},
     "output_type": "execute_result"
    }
   ],
   "source": [
    "balancedSymbols(\"([{<>}]>\")"
   ]
  },
  {
   "cell_type": "markdown",
   "metadata": {},
   "source": [
    "# Queue (File d'attente)"
   ]
  },
  {
   "cell_type": "code",
   "execution_count": 15,
   "metadata": {
    "scrolled": true
   },
   "outputs": [
    {
     "name": "stdout",
     "output_type": "stream",
     "text": [
      "putting 1 item in the queue, the queue size is now 1\n",
      "putting 1 item in the queue, the queue size is now 2\n",
      "putting 1 item in the queue, the queue size is now 3\n",
      "putting 1 item in the queue, the queue size is now 4\n",
      "putting 1 item in the queue, the queue size is now 5\n",
      "putting 1 item in the queue, the queue size is now 6\n",
      "putting 1 item in the queue, the queue size is now 7\n",
      "putting 1 item in the queue, the queue size is now 8\n",
      "putting 1 item in the queue, the queue size is now 9\n",
      "putting 1 item in the queue, the queue size is now 10\n",
      "Queue is full: cannot add item\n",
      "getting 1 item from the queue, the queue size is now 9\n",
      "getting 1 item from the queue, the queue size is now 8\n",
      "getting 1 item from the queue, the queue size is now 7\n",
      "getting 1 item from the queue, the queue size is now 6\n",
      "getting 1 item from the queue, the queue size is now 5\n",
      "getting 1 item from the queue, the queue size is now 4\n",
      "getting 1 item from the queue, the queue size is now 3\n",
      "getting 1 item from the queue, the queue size is now 2\n",
      "getting 1 item from the queue, the queue size is now 1\n",
      "getting 1 item from the queue, the queue size is now 0\n",
      "Queue is empty: annot get item\n"
     ]
    }
   ],
   "source": [
    "#built-in synchronized queue in python (mailnly built for threads)\n",
    "from queue import Queue,Full,Empty\n",
    "q=Queue(10)\n",
    "\n",
    "for i in range(11):\n",
    "    try:\n",
    "        q.put(1,block=False)\n",
    "        print(\"putting 1 item in the queue, the queue size is now %d\"%q.qsize())\n",
    "    except Full:\n",
    "        print(\"Queue is full: cannot add item\")\n",
    "\n",
    "\n",
    "while i > -1:\n",
    "    try:\n",
    "        i=q.get(block=False)\n",
    "        print(\"getting %i item from the queue, the queue size is now %d\" % (i,q.qsize()))\n",
    "    except Empty:\n",
    "        print(\"Queue is empty: annot get item\")\n",
    "    i -=1\n"
   ]
  },
  {
   "cell_type": "markdown",
   "metadata": {},
   "source": [
    "## Implementing a Queue using a stack"
   ]
  },
  {
   "cell_type": "code",
   "execution_count": 16,
   "metadata": {},
   "outputs": [],
   "source": [
    "class Stack(object):\n",
    "    def __init__(self):\n",
    "        self.items=[]\n",
    "    def push(self,*args):\n",
    "        for i in args:\n",
    "            self.items.append(i)\n",
    "    def pop(self):\n",
    "        item=self.items[len(self.items)-1]\n",
    "        self.items.remove(item)\n",
    "        return item\n",
    "    def peek(self):\n",
    "        return self.items[self.size()-1]\n",
    "    def size(self):\n",
    "        return len(self.items)\n",
    "    def isEmpty(self):\n",
    "        return not bool(self.size())\n",
    "\n",
    "class MyQueue(object):\n",
    "    def __init__(self, size=10):\n",
    "        self.stack=Stack()\n",
    "    def put(self,item):\n",
    "        if self.stack.isEmpty():\n",
    "            self.stack.push(item)\n",
    "        else:\n",
    "            newstack=Stack()\n",
    "            newstack.push(item)\n",
    "            for e in self.stack.items:\n",
    "                newstack.push(e)\n",
    "            self.stack=newstack\n",
    "    def qsize(self):\n",
    "        return self.stack.size()\n",
    "    def get(self):\n",
    "        return self.stack.pop()"
   ]
  },
  {
   "cell_type": "code",
   "execution_count": 17,
   "metadata": {},
   "outputs": [
    {
     "name": "stdout",
     "output_type": "stream",
     "text": [
      "putting 0 in the queue, the queue size is now 1\n",
      "putting 1 in the queue, the queue size is now 2\n",
      "putting 2 in the queue, the queue size is now 3\n",
      "putting 3 in the queue, the queue size is now 4\n",
      "putting 4 in the queue, the queue size is now 5\n",
      "putting 5 in the queue, the queue size is now 6\n",
      "putting 6 in the queue, the queue size is now 7\n",
      "putting 7 in the queue, the queue size is now 8\n",
      "putting 8 in the queue, the queue size is now 9\n",
      "putting 9 in the queue, the queue size is now 10\n",
      "getting 0 item from the queue, the queue size is now 9\n",
      "getting 1 item from the queue, the queue size is now 8\n",
      "getting 2 item from the queue, the queue size is now 7\n",
      "getting 3 item from the queue, the queue size is now 6\n",
      "getting 4 item from the queue, the queue size is now 5\n",
      "getting 5 item from the queue, the queue size is now 4\n",
      "getting 6 item from the queue, the queue size is now 3\n",
      "getting 7 item from the queue, the queue size is now 2\n",
      "getting 8 item from the queue, the queue size is now 1\n",
      "getting 9 item from the queue, the queue size is now 0\n"
     ]
    }
   ],
   "source": [
    "q=MyQueue()\n",
    "for i in range(10):\n",
    "    q.put(i)\n",
    "    print(\"putting %d in the queue, the queue size is now %d\"%(i,q.qsize()))\n",
    "while i > -1:\n",
    "    print(\"getting %d item from the queue, the queue size is now %d\" % (q.get(),q.qsize()))\n",
    "    i -=1"
   ]
  },
  {
   "cell_type": "code",
   "execution_count": 18,
   "metadata": {},
   "outputs": [],
   "source": [
    "#with Exceptions:\n",
    "\n",
    "class MyFull(Exception):\n",
    "        pass\n",
    "class MyEmpty(Exception):\n",
    "        pass\n",
    "class MyQueue(object):\n",
    "    def __init__(self, maxsize=10):\n",
    "        self.stack=Stack()\n",
    "        self.maxsize=maxsize\n",
    "    def put(self,item):\n",
    "        if self.qsize()==self.maxsize:\n",
    "            raise MyFull(\"Queue is full: cannot add item\")\n",
    "        if self.stack.isEmpty():\n",
    "            self.stack.push(item)\n",
    "        else:\n",
    "            newstack=Stack()\n",
    "            newstack.push(item)\n",
    "            for e in self.stack.items:\n",
    "                newstack.push(e)\n",
    "            self.stack=newstack\n",
    "    def qsize(self):\n",
    "        return self.stack.size()\n",
    "    def get(self):\n",
    "        if self.qsize()==0:\n",
    "            raise MyEmpty(\"Queue is empty: cannot get item\")\n",
    "        return self.stack.pop()\n"
   ]
  },
  {
   "cell_type": "code",
   "execution_count": 19,
   "metadata": {},
   "outputs": [
    {
     "name": "stdout",
     "output_type": "stream",
     "text": [
      "putting 1 item in the queue, the queue size is now 1\n",
      "putting 1 item in the queue, the queue size is now 2\n",
      "putting 1 item in the queue, the queue size is now 3\n",
      "putting 1 item in the queue, the queue size is now 4\n",
      "putting 1 item in the queue, the queue size is now 5\n",
      "putting 1 item in the queue, the queue size is now 6\n",
      "putting 1 item in the queue, the queue size is now 7\n",
      "putting 1 item in the queue, the queue size is now 8\n",
      "putting 1 item in the queue, the queue size is now 9\n",
      "putting 1 item in the queue, the queue size is now 10\n",
      "Queue is full: cannot add item\n",
      "getting 1 item from the queue, the queue size is now 9\n",
      "getting 1 item from the queue, the queue size is now 8\n",
      "getting 1 item from the queue, the queue size is now 7\n",
      "getting 1 item from the queue, the queue size is now 6\n",
      "getting 1 item from the queue, the queue size is now 5\n",
      "getting 1 item from the queue, the queue size is now 4\n",
      "getting 1 item from the queue, the queue size is now 3\n",
      "getting 1 item from the queue, the queue size is now 2\n",
      "getting 1 item from the queue, the queue size is now 1\n",
      "getting 1 item from the queue, the queue size is now 0\n",
      "Queue is empty: annot get item\n"
     ]
    }
   ],
   "source": [
    "q=MyQueue()\n",
    "for i in range(11):\n",
    "    try:\n",
    "        q.put(1)\n",
    "        print(\"putting 1 item in the queue, the queue size is now %d\"%q.qsize())\n",
    "    except MyFull:\n",
    "        print(\"Queue is full: cannot add item\")\n",
    "\n",
    "\n",
    "while i > -1:\n",
    "    try:\n",
    "        i=q.get()\n",
    "        print(\"getting %i item from the queue, the queue size is now %d\" % (i,q.qsize()))\n",
    "    except MyEmpty:\n",
    "        print(\"Queue is empty: annot get item\")\n",
    "    i -=1\n"
   ]
  },
  {
   "cell_type": "markdown",
   "metadata": {},
   "source": [
    "# Titus Flavius Josephus Problem"
   ]
  },
  {
   "cell_type": "markdown",
   "metadata": {},
   "source": [
    "According to <a href=\"https://en.wikipedia.org/wiki/Josephus_problem\">wikipedia</a>:\n",
    "\n",
    "In computer science and mathematics, the Josephus problem (or Josephus permutation) is a theoretical problem related to a certain counting-out game.\n",
    "<br/>\n",
    "People are standing in a circle waiting to be executed. Counting begins at a specified point in the circle and proceeds around the circle in a specified direction. After a specified number of people are skipped, the next person is executed. The procedure is repeated with the remaining people, starting with the next person, going in the same direction and skipping the same number of people, until only one person remains, and is freed.\n",
    "<br/>\n",
    "The problem — given the number of people, starting point, direction, and number to be skipped — is to choose the position in the initial circle to avoid execution."
   ]
  },
  {
   "cell_type": "code",
   "execution_count": 27,
   "metadata": {},
   "outputs": [
    {
     "name": "stdout",
     "output_type": "stream",
     "text": [
      "s=0\n",
      "survivors=[]\n",
      "candidates=['0', '1', '2']\n",
      "\n",
      "s=1\n",
      "survivors=['0']\n",
      "candidates=['1', '2']\n",
      "\n",
      "s=2\n",
      "survivors=['0', '1']\n",
      "candidates=['2']\n",
      "\n",
      "2 is out!\n",
      "\n",
      "s=0\n",
      "survivors=[]\n",
      "candidates=['0', '1']\n",
      "\n",
      "s=1\n",
      "survivors=['0']\n",
      "candidates=['1']\n",
      "\n",
      "s=2\n",
      "survivors=[]\n",
      "candidates=['0', '1']\n",
      "\n",
      "0 is out!\n",
      "\n",
      "s=0\n",
      "survivors=[]\n",
      "candidates=['1']\n",
      "\n"
     ]
    },
    {
     "data": {
      "text/plain": [
       "'1'"
      ]
     },
     "execution_count": 27,
     "metadata": {},
     "output_type": "execute_result"
    }
   ],
   "source": [
    "#we will initiate a queue of the size of initial number of poeple called \"candidates\"\n",
    "#then we will get or pop the specfied number of poeple to skip into a new queue called \"survivors\"\n",
    "#the next person after the persons to be skipped is the \"looser\" that person will not be introduced in the new queue\n",
    "#the enqueuing continues after the looser until there are no more poeple in the candidate queue\n",
    "#at this stage the candidate queue becomes the survivor queue and the survivor queue is reinitialized.\n",
    "#we continue the process until the size of the candidate queue is 1 the survivor is called \"flavius\"\n",
    "def freeMan(startIndex=0, numberOfPeople=3, forward=True, skip=2):\n",
    "    candidates=Queue(numberOfPeople)\n",
    "    survivors=Queue(0)\n",
    "    startIndex=startIndex\n",
    "    direction=forward\n",
    "    skip=skip#\n",
    "    \n",
    "    #fill up the initial candidates names we will start with 0\n",
    "    i=0\n",
    "    while i in range(numberOfPeople):\n",
    "        candidates.put(str(i),block=False)#['0','1','2']\n",
    "        i +=1\n",
    "    #let's start the count\n",
    "    s=startIndex#0\n",
    "    \n",
    "    while True:\n",
    "        print(\"s=%d\"%s)\n",
    "        print(\"survivors=\"+str([x for x in survivors.queue]))\n",
    "        print(\"candidates=\"+str([x for x in candidates.queue])+'\\n')\n",
    "        \n",
    "        if survivors.qsize()==0 and candidates.qsize()==1:#False\n",
    "            flavius=candidates.get(block=False)#flavius='1'\n",
    "            return flavius #to the Romans\n",
    "            \n",
    "        \n",
    "        if s != skip+startIndex:#True\n",
    "            survivors.put(candidates.get(block=False),block=False)\n",
    "                #survivors=['0']\n",
    "                #candidates=['1','2']\n",
    "            if candidates.qsize()==0:# =2 so False\n",
    "                candidates=survivors#\n",
    "                survivors=Queue(0)#\n",
    "        else:\n",
    "            looser=candidates.get(block=False)#'0'\n",
    "            #candidates=['1']\n",
    "            print(\"%s is out!\\n\"%looser)\n",
    "            while not candidates.empty():#False\n",
    "                survivors.put(candidates.get(block=False),block=False)#survivors=['1']      \n",
    "            candidates=survivors# ['1']\n",
    "            survivors=Queue(0)# []\n",
    "            s = 0#\n",
    "            #startIndex=0\n",
    "            continue\n",
    "        s += 1#\n",
    "\n",
    "#candidates = ['0','1','2']\n",
    "#skip=2\n",
    "#start=0\n",
    "#['0','1']\n",
    "#['1']\n",
    "#['1']\n",
    "freeMan()\n",
    "    \n",
    "    \n"
   ]
  },
  {
   "cell_type": "code",
   "execution_count": 21,
   "metadata": {},
   "outputs": [
    {
     "name": "stdout",
     "output_type": "stream",
     "text": [
      "s=0\n",
      "survivors=[]\n",
      "candidates=['0', '1', '2', '3']\n",
      "\n",
      "s=1\n",
      "survivors=['0']\n",
      "candidates=['1', '2', '3']\n",
      "\n",
      "s=2\n",
      "survivors=['0', '1']\n",
      "candidates=['2', '3']\n",
      "\n",
      "2 is out!\n",
      "\n",
      "s=0\n",
      "survivors=[]\n",
      "candidates=['0', '1', '3']\n",
      "\n",
      "s=1\n",
      "survivors=['0']\n",
      "candidates=['1', '3']\n",
      "\n",
      "s=2\n",
      "survivors=['0', '1']\n",
      "candidates=['3']\n",
      "\n",
      "3 is out!\n",
      "\n",
      "s=0\n",
      "survivors=[]\n",
      "candidates=['0', '1']\n",
      "\n",
      "s=1\n",
      "survivors=['0']\n",
      "candidates=['1']\n",
      "\n",
      "s=2\n",
      "survivors=[]\n",
      "candidates=['0', '1']\n",
      "\n",
      "0 is out!\n",
      "\n",
      "s=0\n",
      "survivors=[]\n",
      "candidates=['1']\n",
      "\n"
     ]
    },
    {
     "data": {
      "text/plain": [
       "'1'"
      ]
     },
     "execution_count": 21,
     "metadata": {},
     "output_type": "execute_result"
    }
   ],
   "source": [
    "#candidates = ['0','1','2'.'3']\n",
    "#skip=2\n",
    "#start=0\n",
    "#['0','1'.'3']\n",
    "#['0','1']\n",
    "#['1']\n",
    "\n",
    "#survivor should be '1'\n",
    "freeMan(0,4,True,2)"
   ]
  },
  {
   "cell_type": "code",
   "execution_count": 22,
   "metadata": {},
   "outputs": [
    {
     "name": "stdout",
     "output_type": "stream",
     "text": [
      "s=1\n",
      "survivors=[]\n",
      "candidates=['0', '1', '2', '3']\n",
      "\n",
      "s=2\n",
      "survivors=['0']\n",
      "candidates=['1', '2', '3']\n",
      "\n",
      "s=3\n",
      "survivors=['0', '1']\n",
      "candidates=['2', '3']\n",
      "\n",
      "2 is out!\n",
      "\n",
      "s=0\n",
      "survivors=[]\n",
      "candidates=['0', '1', '3']\n",
      "\n",
      "s=1\n",
      "survivors=['0']\n",
      "candidates=['1', '3']\n",
      "\n",
      "s=2\n",
      "survivors=['0', '1']\n",
      "candidates=['3']\n",
      "\n",
      "3 is out!\n",
      "\n",
      "s=0\n",
      "survivors=[]\n",
      "candidates=['0', '1']\n",
      "\n",
      "s=1\n",
      "survivors=['0']\n",
      "candidates=['1']\n",
      "\n",
      "s=2\n",
      "survivors=[]\n",
      "candidates=['0', '1']\n",
      "\n",
      "0 is out!\n",
      "\n",
      "s=0\n",
      "survivors=[]\n",
      "candidates=['1']\n",
      "\n"
     ]
    },
    {
     "data": {
      "text/plain": [
       "'1'"
      ]
     },
     "execution_count": 22,
     "metadata": {},
     "output_type": "execute_result"
    }
   ],
   "source": [
    "#candidates = ['0','1','2'.'3']\n",
    "#skip=2\n",
    "#start=1\n",
    "#['0','1'.'2']\n",
    "#['0','1']\n",
    "#['1']\n",
    "#survivor should be '1'\n",
    "freeMan(1,4,True,2)"
   ]
  },
  {
   "cell_type": "code",
   "execution_count": 23,
   "metadata": {},
   "outputs": [
    {
     "name": "stdout",
     "output_type": "stream",
     "text": [
      "s=1\n",
      "survivors=[]\n",
      "candidates=['0', '1', '2', '3']\n",
      "\n",
      "s=2\n",
      "survivors=['0']\n",
      "candidates=['1', '2', '3']\n",
      "\n",
      "s=3\n",
      "survivors=['0', '1']\n",
      "candidates=['2', '3']\n",
      "\n",
      "s=4\n",
      "survivors=['0', '1', '2']\n",
      "candidates=['3']\n",
      "\n",
      "3 is out!\n",
      "\n",
      "s=0\n",
      "survivors=[]\n",
      "candidates=['0', '1', '2']\n",
      "\n",
      "s=1\n",
      "survivors=['0']\n",
      "candidates=['1', '2']\n",
      "\n",
      "s=2\n",
      "survivors=['0', '1']\n",
      "candidates=['2']\n",
      "\n",
      "s=3\n",
      "survivors=[]\n",
      "candidates=['0', '1', '2']\n",
      "\n",
      "0 is out!\n",
      "\n",
      "s=0\n",
      "survivors=[]\n",
      "candidates=['1', '2']\n",
      "\n",
      "s=1\n",
      "survivors=['1']\n",
      "candidates=['2']\n",
      "\n",
      "s=2\n",
      "survivors=[]\n",
      "candidates=['1', '2']\n",
      "\n",
      "s=3\n",
      "survivors=['1']\n",
      "candidates=['2']\n",
      "\n",
      "2 is out!\n",
      "\n",
      "s=0\n",
      "survivors=[]\n",
      "candidates=['1']\n",
      "\n"
     ]
    },
    {
     "data": {
      "text/plain": [
       "'1'"
      ]
     },
     "execution_count": 23,
     "metadata": {},
     "output_type": "execute_result"
    }
   ],
   "source": [
    "#candidates = ['0','1','2','3']\n",
    "#skip=3\n",
    "#start=1\n",
    "#['1','2','3']\n",
    "#['1','3']\n",
    "#['1']\n",
    "#survivor should be '1'\n",
    "freeMan(1,4,True,3)"
   ]
  },
  {
   "cell_type": "code",
   "execution_count": 24,
   "metadata": {},
   "outputs": [
    {
     "name": "stdout",
     "output_type": "stream",
     "text": [
      "s=2\n",
      "survivors=[]\n",
      "candidates=['0', '1', '2', '3']\n",
      "\n",
      "s=3\n",
      "survivors=['0']\n",
      "candidates=['1', '2', '3']\n",
      "\n",
      "s=4\n",
      "survivors=['0', '1']\n",
      "candidates=['2', '3']\n",
      "\n",
      "s=5\n",
      "survivors=['0', '1', '2']\n",
      "candidates=['3']\n",
      "\n",
      "3 is out!\n",
      "\n",
      "s=0\n",
      "survivors=[]\n",
      "candidates=['0', '1', '2']\n",
      "\n",
      "s=1\n",
      "survivors=['0']\n",
      "candidates=['1', '2']\n",
      "\n",
      "s=2\n",
      "survivors=['0', '1']\n",
      "candidates=['2']\n",
      "\n",
      "s=3\n",
      "survivors=[]\n",
      "candidates=['0', '1', '2']\n",
      "\n",
      "0 is out!\n",
      "\n",
      "s=0\n",
      "survivors=[]\n",
      "candidates=['1', '2']\n",
      "\n",
      "s=1\n",
      "survivors=['1']\n",
      "candidates=['2']\n",
      "\n",
      "s=2\n",
      "survivors=[]\n",
      "candidates=['1', '2']\n",
      "\n",
      "s=3\n",
      "survivors=['1']\n",
      "candidates=['2']\n",
      "\n",
      "2 is out!\n",
      "\n",
      "s=0\n",
      "survivors=[]\n",
      "candidates=['1']\n",
      "\n"
     ]
    },
    {
     "data": {
      "text/plain": [
       "'1'"
      ]
     },
     "execution_count": 24,
     "metadata": {},
     "output_type": "execute_result"
    }
   ],
   "source": [
    "#candidates = ['0','1','2','3']\n",
    "#skip=3\n",
    "#start=2\n",
    "#['0','1','3']\n",
    "#['0','1']\n",
    "#['0']\n",
    "#survivor should be '0'\n",
    "freeMan(2,4,True,3)"
   ]
  },
  {
   "cell_type": "markdown",
   "metadata": {},
   "source": [
    "## Implementing with 1 queue"
   ]
  },
  {
   "cell_type": "code",
   "execution_count": 25,
   "metadata": {},
   "outputs": [
    {
     "data": {
      "text/plain": [
       "'1'"
      ]
     },
     "execution_count": 25,
     "metadata": {},
     "output_type": "execute_result"
    }
   ],
   "source": [
    "#we will initiate a queue of the size of initial number of poeple called \"candidates\"\n",
    "#then we will get or pop the specfied number of poeple to skip into and put them back into the same queue\n",
    "#the next person after the persons to be skipped is the \"looser\" that person will be popped and will not be introduced in the again queue\n",
    "#we continue until the size of the queue is 1 the survivor is called \"josephus\"\n",
    "def freeMan(startIndex=0, numberOfPeople=3, forward=True, skip=2,verbose=False):\n",
    "    candidates=Queue(0)\n",
    "    startIndex=startIndex\n",
    "    direction=forward\n",
    "    skip=skip#\n",
    "    \n",
    "    #fill up the initial candidates names we will start with 0\n",
    "    i=0\n",
    "    while i in range(numberOfPeople):\n",
    "        candidates.put(str(i),block=False)#['0','1','2']\n",
    "        i +=1\n",
    "    #let's start the count\n",
    "    s=0#0\n",
    "    \n",
    "    while True:\n",
    "        if verbose:\n",
    "            print(\"s=%d\"%s)\n",
    "            print(\"candidates=\"+str([x for x in candidates.queue])+'\\n')\n",
    "        \n",
    "        if candidates.qsize()==1:#False\n",
    "            flavius=candidates.get(block=False)#flavius=\n",
    "            return flavius #to the Romans\n",
    "            \n",
    "        \n",
    "        if s != startIndex+skip:#True\n",
    "            candidates.put(candidates.get(block=False),block=False)\n",
    "                #candidates=\n",
    "        else:\n",
    "            looser=candidates.get(block=False)#'0'\n",
    "            #candidates=\n",
    "            if verbose:\n",
    "                print(\"%s is out!\\n\"%looser)     \n",
    "            s = 0#\n",
    "            continue\n",
    "        s += 1#\n",
    "\n",
    "#candidates = ['0','1','2']\n",
    "#skip=2\n",
    "#start=0\n",
    "#['0','1']\n",
    "#['1']\n",
    "#['1']\n",
    "freeMan()"
   ]
  },
  {
   "cell_type": "code",
   "execution_count": 26,
   "metadata": {},
   "outputs": [
    {
     "name": "stdout",
     "output_type": "stream",
     "text": [
      "s=0\n",
      "candidates=['0', '1', '2', '3']\n",
      "\n",
      "s=1\n",
      "candidates=['1', '2', '3', '0']\n",
      "\n",
      "s=2\n",
      "candidates=['2', '3', '0', '1']\n",
      "\n",
      "2 is out!\n",
      "\n",
      "s=0\n",
      "candidates=['3', '0', '1']\n",
      "\n",
      "s=1\n",
      "candidates=['0', '1', '3']\n",
      "\n",
      "s=2\n",
      "candidates=['1', '3', '0']\n",
      "\n",
      "1 is out!\n",
      "\n",
      "s=0\n",
      "candidates=['3', '0']\n",
      "\n",
      "s=1\n",
      "candidates=['0', '3']\n",
      "\n",
      "s=2\n",
      "candidates=['3', '0']\n",
      "\n",
      "3 is out!\n",
      "\n",
      "s=0\n",
      "candidates=['0']\n",
      "\n"
     ]
    },
    {
     "data": {
      "text/plain": [
       "'0'"
      ]
     },
     "execution_count": 26,
     "metadata": {},
     "output_type": "execute_result"
    }
   ],
   "source": [
    "#candidates = ['0','1','2'.'3']\n",
    "#skip=2\n",
    "#start=0\n",
    "#['0','1'.'3']\n",
    "#['0','1']\n",
    "#['1']\n",
    "\n",
    "#survivor should be '1'\n",
    "freeMan(0,4,True,2,True)"
   ]
  },
  {
   "cell_type": "code",
   "execution_count": null,
   "metadata": {},
   "outputs": [],
   "source": []
  }
 ],
 "metadata": {
  "kernelspec": {
   "display_name": "Python 3",
   "language": "python",
   "name": "python3"
  },
  "language_info": {
   "codemirror_mode": {
    "name": "ipython",
    "version": 3
   },
   "file_extension": ".py",
   "mimetype": "text/x-python",
   "name": "python",
   "nbconvert_exporter": "python",
   "pygments_lexer": "ipython3",
   "version": "3.7.1"
  }
 },
 "nbformat": 4,
 "nbformat_minor": 2
}
