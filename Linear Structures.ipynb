{
 "cells": [
  {
   "cell_type": "markdown",
   "metadata": {},
   "source": [
    "# Stack (Pile)"
   ]
  },
  {
   "cell_type": "code",
   "execution_count": 1,
   "metadata": {},
   "outputs": [],
   "source": [
    "class Stack(object):\n",
    "    def __init__(self):\n",
    "        self.items=[]\n",
    "    def push(self,*args):\n",
    "        for i in args:\n",
    "            self.items.append(i)\n",
    "    def pop(self):\n",
    "        item=self.items[len(self.items)-1]\n",
    "        self.items.remove(item)\n",
    "        return item\n",
    "    def peek(self):\n",
    "        return self.items[self.size()-1]\n",
    "    def size(self):\n",
    "        return len(self.items)\n",
    "    def isEmpty(self):\n",
    "        return not bool(self.size())\n",
    "    \n",
    "        "
   ]
  },
  {
   "cell_type": "code",
   "execution_count": 2,
   "metadata": {},
   "outputs": [
    {
     "name": "stdout",
     "output_type": "stream",
     "text": [
      "True\n",
      "3\n",
      "3\n",
      "2\n",
      "False\n"
     ]
    }
   ],
   "source": [
    "mystack=Stack()\n",
    "print(mystack.isEmpty())\n",
    "mystack.push(1,2,3)\n",
    "print(mystack.peek())\n",
    "print(mystack.pop())\n",
    "print(mystack.size())\n",
    "print(mystack.isEmpty())"
   ]
  },
  {
   "cell_type": "markdown",
   "metadata": {},
   "source": [
    "## reverse function using a stack"
   ]
  },
  {
   "cell_type": "code",
   "execution_count": 3,
   "metadata": {},
   "outputs": [],
   "source": [
    "def reverse(*args):\n",
    "    l=Stack()\n",
    "    for x in args:\n",
    "        l.push(x)\n",
    "    reverse=[]\n",
    "    while not l.isEmpty():\n",
    "        reverse.append(l.pop())\n",
    "    return reverse"
   ]
  },
  {
   "cell_type": "code",
   "execution_count": 4,
   "metadata": {},
   "outputs": [
    {
     "data": {
      "text/plain": [
       "['t', 'a', 'c']"
      ]
     },
     "execution_count": 4,
     "metadata": {},
     "output_type": "execute_result"
    }
   ],
   "source": [
    "reverse('c','a','t')"
   ]
  },
  {
   "cell_type": "markdown",
   "metadata": {},
   "source": [
    "## Balanced Symbols"
   ]
  },
  {
   "cell_type": "code",
   "execution_count": 5,
   "metadata": {},
   "outputs": [],
   "source": [
    "def balancedParantheses(expression):\n",
    "    if not set(list(expression))=={\"(\",\")\"}:\n",
    "        return False\n",
    "    pstack=Stack()\n",
    "    for p in expression:\n",
    "        if p==\"(\":\n",
    "            pstack.push(1)\n",
    "        else:\n",
    "            if pstack.size()>0:\n",
    "                pstack.pop()\n",
    "            else: \n",
    "                return False\n",
    "    if pstack.size() ==0:\n",
    "        return True"
   ]
  },
  {
   "cell_type": "code",
   "execution_count": 6,
   "metadata": {},
   "outputs": [
    {
     "data": {
      "text/plain": [
       "True"
      ]
     },
     "execution_count": 6,
     "metadata": {},
     "output_type": "execute_result"
    }
   ],
   "source": [
    "balancedParantheses(\"()\")"
   ]
  },
  {
   "cell_type": "code",
   "execution_count": 7,
   "metadata": {},
   "outputs": [
    {
     "data": {
      "text/plain": [
       "False"
      ]
     },
     "execution_count": 7,
     "metadata": {},
     "output_type": "execute_result"
    }
   ],
   "source": [
    "balancedParantheses(\")(\")"
   ]
  },
  {
   "cell_type": "code",
   "execution_count": 8,
   "metadata": {},
   "outputs": [
    {
     "data": {
      "text/plain": [
       "True"
      ]
     },
     "execution_count": 8,
     "metadata": {},
     "output_type": "execute_result"
    }
   ],
   "source": [
    "balancedParantheses(\"(()()())\")"
   ]
  },
  {
   "cell_type": "code",
   "execution_count": 9,
   "metadata": {},
   "outputs": [
    {
     "data": {
      "text/plain": [
       "False"
      ]
     },
     "execution_count": 9,
     "metadata": {},
     "output_type": "execute_result"
    }
   ],
   "source": [
    "balancedParantheses(\"(()()()))\")"
   ]
  },
  {
   "cell_type": "code",
   "execution_count": 10,
   "metadata": {},
   "outputs": [],
   "source": [
    "opening=\"({[<\"\n",
    "closing=\")}]>\"\n",
    "def balancedSymbols(expression):\n",
    "    if not set(list(expression))=={\"(\",\")\",\"{\",\"}\",\"[\",\"]\",\"<\",\">\"}:\n",
    "        return False\n",
    "    pstack=Stack()\n",
    "    for p in expression:\n",
    "        if p in opening:\n",
    "            pstack.push(p)\n",
    "        elif p in closing:\n",
    "            if pstack.size()>0 and matchsymbol(pstack.peek(),p):\n",
    "                pstack.pop()\n",
    "            else: \n",
    "                return False\n",
    "    if pstack.size() ==0:\n",
    "        return True\n",
    "def matchsymbol(o: str, c: str):\n",
    "    if closing.index(c)==opening.index(o):\n",
    "        return True\n",
    "    else: \n",
    "        return False"
   ]
  },
  {
   "cell_type": "code",
   "execution_count": 11,
   "metadata": {},
   "outputs": [
    {
     "data": {
      "text/plain": [
       "True"
      ]
     },
     "execution_count": 11,
     "metadata": {},
     "output_type": "execute_result"
    }
   ],
   "source": [
    "balancedSymbols(\"([{<>}])\")"
   ]
  },
  {
   "cell_type": "code",
   "execution_count": 12,
   "metadata": {},
   "outputs": [
    {
     "data": {
      "text/plain": [
       "False"
      ]
     },
     "execution_count": 12,
     "metadata": {},
     "output_type": "execute_result"
    }
   ],
   "source": [
    "balancedSymbols(\"([{<>}]]\")"
   ]
  },
  {
   "cell_type": "code",
   "execution_count": 13,
   "metadata": {},
   "outputs": [
    {
     "data": {
      "text/plain": [
       "True"
      ]
     },
     "execution_count": 13,
     "metadata": {},
     "output_type": "execute_result"
    }
   ],
   "source": [
    "balancedSymbols(\"([{<>}])()\")"
   ]
  },
  {
   "cell_type": "code",
   "execution_count": 14,
   "metadata": {},
   "outputs": [
    {
     "data": {
      "text/plain": [
       "False"
      ]
     },
     "execution_count": 14,
     "metadata": {},
     "output_type": "execute_result"
    }
   ],
   "source": [
    "balancedSymbols(\"([{<>}]>\")"
   ]
  },
  {
   "cell_type": "markdown",
   "metadata": {},
   "source": [
    "# Queue (File d'attente)"
   ]
  },
  {
   "cell_type": "code",
   "execution_count": 15,
   "metadata": {
    "scrolled": true
   },
   "outputs": [
    {
     "name": "stdout",
     "output_type": "stream",
     "text": [
      "putting 1 item in the queue, the queue size is now 1\n",
      "putting 1 item in the queue, the queue size is now 2\n",
      "putting 1 item in the queue, the queue size is now 3\n",
      "putting 1 item in the queue, the queue size is now 4\n",
      "putting 1 item in the queue, the queue size is now 5\n",
      "putting 1 item in the queue, the queue size is now 6\n",
      "putting 1 item in the queue, the queue size is now 7\n",
      "putting 1 item in the queue, the queue size is now 8\n",
      "putting 1 item in the queue, the queue size is now 9\n",
      "putting 1 item in the queue, the queue size is now 10\n",
      "Queue is full: cannot add item\n",
      "getting 1 item from the queue, the queue size is now 9\n",
      "getting 1 item from the queue, the queue size is now 8\n",
      "getting 1 item from the queue, the queue size is now 7\n",
      "getting 1 item from the queue, the queue size is now 6\n",
      "getting 1 item from the queue, the queue size is now 5\n",
      "getting 1 item from the queue, the queue size is now 4\n",
      "getting 1 item from the queue, the queue size is now 3\n",
      "getting 1 item from the queue, the queue size is now 2\n",
      "getting 1 item from the queue, the queue size is now 1\n",
      "getting 1 item from the queue, the queue size is now 0\n",
      "Queue is empty: annot get item\n"
     ]
    }
   ],
   "source": [
    "#built-in synchronized queue in python (mailnly built for threads)\n",
    "from queue import Queue,Full,Empty\n",
    "q=Queue(10)\n",
    "\n",
    "for i in range(11):\n",
    "    try:\n",
    "        q.put(1,block=False)\n",
    "        print(\"putting 1 item in the queue, the queue size is now %d\"%q.qsize())\n",
    "    except Full:\n",
    "        print(\"Queue is full: cannot add item\")\n",
    "\n",
    "\n",
    "while i > -1:\n",
    "    try:\n",
    "        i=q.get(block=False)\n",
    "        print(\"getting %i item from the queue, the queue size is now %d\" % (i,q.qsize()))\n",
    "    except Empty:\n",
    "        print(\"Queue is empty: annot get item\")\n",
    "    i -=1\n"
   ]
  },
  {
   "cell_type": "markdown",
   "metadata": {},
   "source": [
    "## Implementing a Queue using a stack"
   ]
  },
  {
   "cell_type": "code",
   "execution_count": 16,
   "metadata": {},
   "outputs": [],
   "source": [
    "class Stack(object):\n",
    "    def __init__(self):\n",
    "        self.items=[]\n",
    "    def push(self,*args):\n",
    "        for i in args:\n",
    "            self.items.append(i)\n",
    "    def pop(self):\n",
    "        item=self.items[len(self.items)-1]\n",
    "        self.items.remove(item)\n",
    "        return item\n",
    "    def peek(self):\n",
    "        return self.items[self.size()-1]\n",
    "    def size(self):\n",
    "        return len(self.items)\n",
    "    def isEmpty(self):\n",
    "        return not bool(self.size())\n",
    "\n",
    "class MyQueue(object):\n",
    "    def __init__(self, size=10):\n",
    "        self.stack=Stack()\n",
    "    def put(self,item):\n",
    "        if self.stack.isEmpty():\n",
    "            self.stack.push(item)\n",
    "        else:\n",
    "            newstack=Stack()\n",
    "            newstack.push(item)\n",
    "            for e in self.stack.items:\n",
    "                newstack.push(e)\n",
    "            self.stack=newstack\n",
    "    def qsize(self):\n",
    "        return self.stack.size()\n",
    "    def get(self):\n",
    "        return self.stack.pop()"
   ]
  },
  {
   "cell_type": "code",
   "execution_count": 17,
   "metadata": {},
   "outputs": [
    {
     "name": "stdout",
     "output_type": "stream",
     "text": [
      "putting 0 in the queue, the queue size is now 1\n",
      "putting 1 in the queue, the queue size is now 2\n",
      "putting 2 in the queue, the queue size is now 3\n",
      "putting 3 in the queue, the queue size is now 4\n",
      "putting 4 in the queue, the queue size is now 5\n",
      "putting 5 in the queue, the queue size is now 6\n",
      "putting 6 in the queue, the queue size is now 7\n",
      "putting 7 in the queue, the queue size is now 8\n",
      "putting 8 in the queue, the queue size is now 9\n",
      "putting 9 in the queue, the queue size is now 10\n",
      "getting 0 item from the queue, the queue size is now 9\n",
      "getting 1 item from the queue, the queue size is now 8\n",
      "getting 2 item from the queue, the queue size is now 7\n",
      "getting 3 item from the queue, the queue size is now 6\n",
      "getting 4 item from the queue, the queue size is now 5\n",
      "getting 5 item from the queue, the queue size is now 4\n",
      "getting 6 item from the queue, the queue size is now 3\n",
      "getting 7 item from the queue, the queue size is now 2\n",
      "getting 8 item from the queue, the queue size is now 1\n",
      "getting 9 item from the queue, the queue size is now 0\n"
     ]
    }
   ],
   "source": [
    "q=MyQueue()\n",
    "for i in range(10):\n",
    "    q.put(i)\n",
    "    print(\"putting %d in the queue, the queue size is now %d\"%(i,q.qsize()))\n",
    "while i > -1:\n",
    "    print(\"getting %d item from the queue, the queue size is now %d\" % (q.get(),q.qsize()))\n",
    "    i -=1"
   ]
  },
  {
   "cell_type": "code",
   "execution_count": 18,
   "metadata": {},
   "outputs": [],
   "source": [
    "#with Exceptions:\n",
    "\n",
    "class MyFull(Exception):\n",
    "        pass\n",
    "class MyEmpty(Exception):\n",
    "        pass\n",
    "class MyQueue(object):\n",
    "    def __init__(self, maxsize=10):\n",
    "        self.stack=Stack()\n",
    "        self.maxsize=maxsize\n",
    "    def put(self,item):\n",
    "        if self.qsize()==self.maxsize:\n",
    "            raise MyFull(\"Queue is full: cannot add item\")\n",
    "        if self.stack.isEmpty():\n",
    "            self.stack.push(item)\n",
    "        else:\n",
    "            newstack=Stack()\n",
    "            newstack.push(item)\n",
    "            for e in self.stack.items:\n",
    "                newstack.push(e)\n",
    "            self.stack=newstack\n",
    "    def qsize(self):\n",
    "        return self.stack.size()\n",
    "    def get(self):\n",
    "        if self.qsize()==0:\n",
    "            raise MyEmpty(\"Queue is empty: cannot get item\")\n",
    "        return self.stack.pop()\n"
   ]
  },
  {
   "cell_type": "code",
   "execution_count": 19,
   "metadata": {},
   "outputs": [
    {
     "name": "stdout",
     "output_type": "stream",
     "text": [
      "putting 1 item in the queue, the queue size is now 1\n",
      "putting 1 item in the queue, the queue size is now 2\n",
      "putting 1 item in the queue, the queue size is now 3\n",
      "putting 1 item in the queue, the queue size is now 4\n",
      "putting 1 item in the queue, the queue size is now 5\n",
      "putting 1 item in the queue, the queue size is now 6\n",
      "putting 1 item in the queue, the queue size is now 7\n",
      "putting 1 item in the queue, the queue size is now 8\n",
      "putting 1 item in the queue, the queue size is now 9\n",
      "putting 1 item in the queue, the queue size is now 10\n",
      "Queue is full: cannot add item\n",
      "getting 1 item from the queue, the queue size is now 9\n",
      "getting 1 item from the queue, the queue size is now 8\n",
      "getting 1 item from the queue, the queue size is now 7\n",
      "getting 1 item from the queue, the queue size is now 6\n",
      "getting 1 item from the queue, the queue size is now 5\n",
      "getting 1 item from the queue, the queue size is now 4\n",
      "getting 1 item from the queue, the queue size is now 3\n",
      "getting 1 item from the queue, the queue size is now 2\n",
      "getting 1 item from the queue, the queue size is now 1\n",
      "getting 1 item from the queue, the queue size is now 0\n",
      "Queue is empty: annot get item\n"
     ]
    }
   ],
   "source": [
    "q=MyQueue()\n",
    "for i in range(11):\n",
    "    try:\n",
    "        q.put(1)\n",
    "        print(\"putting 1 item in the queue, the queue size is now %d\"%q.qsize())\n",
    "    except MyFull:\n",
    "        print(\"Queue is full: cannot add item\")\n",
    "\n",
    "\n",
    "while i > -1:\n",
    "    try:\n",
    "        i=q.get()\n",
    "        print(\"getting %i item from the queue, the queue size is now %d\" % (i,q.qsize()))\n",
    "    except MyEmpty:\n",
    "        print(\"Queue is empty: annot get item\")\n",
    "    i -=1\n"
   ]
  },
  {
   "cell_type": "markdown",
   "metadata": {},
   "source": [
    "# Titus Flavius Josephus Problem"
   ]
  },
  {
   "cell_type": "markdown",
   "metadata": {},
   "source": [
    "According to <a href=\"https://en.wikipedia.org/wiki/Josephus_problem\">wikipedia</a>:\n",
    "\n",
    "In computer science and mathematics, the Josephus problem (or Josephus permutation) is a theoretical problem related to a certain counting-out game.\n",
    "<br/>\n",
    "People are standing in a circle waiting to be executed. Counting begins at a specified point in the circle and proceeds around the circle in a specified direction. After a specified number of people are skipped, the next person is executed. The procedure is repeated with the remaining people, starting with the next person, going in the same direction and skipping the same number of people, until only one person remains, and is freed.\n",
    "<br/>\n",
    "The problem — given the number of people, starting point, direction, and number to be skipped — is to choose the position in the initial circle to avoid execution."
   ]
  },
  {
   "cell_type": "code",
   "execution_count": 27,
   "metadata": {},
   "outputs": [
    {
     "name": "stdout",
     "output_type": "stream",
     "text": [
      "s=0\n",
      "survivors=[]\n",
      "candidates=['0', '1', '2']\n",
      "\n",
      "s=1\n",
      "survivors=['0']\n",
      "candidates=['1', '2']\n",
      "\n",
      "s=2\n",
      "survivors=['0', '1']\n",
      "candidates=['2']\n",
      "\n",
      "2 is out!\n",
      "\n",
      "s=0\n",
      "survivors=[]\n",
      "candidates=['0', '1']\n",
      "\n",
      "s=1\n",
      "survivors=['0']\n",
      "candidates=['1']\n",
      "\n",
      "s=2\n",
      "survivors=[]\n",
      "candidates=['0', '1']\n",
      "\n",
      "0 is out!\n",
      "\n",
      "s=0\n",
      "survivors=[]\n",
      "candidates=['1']\n",
      "\n"
     ]
    },
    {
     "data": {
      "text/plain": [
       "'1'"
      ]
     },
     "execution_count": 27,
     "metadata": {},
     "output_type": "execute_result"
    }
   ],
   "source": [
    "#we will initiate a queue of the size of initial number of poeple called \"candidates\"\n",
    "#then we will get or pop the specfied number of poeple to skip into a new queue called \"survivors\"\n",
    "#the next person after the persons to be skipped is the \"looser\" that person will not be introduced in the new queue\n",
    "#the enqueuing continues after the looser until there are no more poeple in the candidate queue\n",
    "#at this stage the candidate queue becomes the survivor queue and the survivor queue is reinitialized.\n",
    "#we continue the process until the size of the candidate queue is 1 the survivor is called \"flavius\"\n",
    "def freeMan(startIndex=0, numberOfPeople=3, forward=True, skip=2):\n",
    "    candidates=Queue(numberOfPeople)\n",
    "    survivors=Queue(0)\n",
    "    startIndex=startIndex\n",
    "    direction=forward\n",
    "    skip=skip#\n",
    "    \n",
    "    #fill up the initial candidates names we will start with 0\n",
    "    i=0\n",
    "    while i in range(numberOfPeople):\n",
    "        candidates.put(str(i),block=False)#['0','1','2']\n",
    "        i +=1\n",
    "    #let's start the count\n",
    "    s=startIndex#0\n",
    "    \n",
    "    while True:\n",
    "        print(\"s=%d\"%s)\n",
    "        print(\"survivors=\"+str([x for x in survivors.queue]))\n",
    "        print(\"candidates=\"+str([x for x in candidates.queue])+'\\n')\n",
    "        \n",
    "        if survivors.qsize()==0 and candidates.qsize()==1:#False\n",
    "            flavius=candidates.get(block=False)#flavius='1'\n",
    "            return flavius #to the Romans\n",
    "            \n",
    "        \n",
    "        if s != skip+startIndex:#True\n",
    "            survivors.put(candidates.get(block=False),block=False)\n",
    "                #survivors=['0']\n",
    "                #candidates=['1','2']\n",
    "            if candidates.qsize()==0:# =2 so False\n",
    "                candidates=survivors#\n",
    "                survivors=Queue(0)#\n",
    "        else:\n",
    "            looser=candidates.get(block=False)#'0'\n",
    "            #candidates=['1']\n",
    "            print(\"%s is out!\\n\"%looser)\n",
    "            while not candidates.empty():#False\n",
    "                survivors.put(candidates.get(block=False),block=False)#survivors=['1']      \n",
    "            candidates=survivors# ['1']\n",
    "            survivors=Queue(0)# []\n",
    "            s = 0#\n",
    "            #startIndex=0\n",
    "            continue\n",
    "        s += 1#\n",
    "\n",
    "#candidates = ['0','1','2']\n",
    "#skip=2\n",
    "#start=0\n",
    "#['0','1']\n",
    "#['1']\n",
    "#['1']\n",
    "freeMan()\n",
    "    \n",
    "    \n"
   ]
  },
  {
   "cell_type": "code",
   "execution_count": 21,
   "metadata": {},
   "outputs": [
    {
     "name": "stdout",
     "output_type": "stream",
     "text": [
      "s=0\n",
      "survivors=[]\n",
      "candidates=['0', '1', '2', '3']\n",
      "\n",
      "s=1\n",
      "survivors=['0']\n",
      "candidates=['1', '2', '3']\n",
      "\n",
      "s=2\n",
      "survivors=['0', '1']\n",
      "candidates=['2', '3']\n",
      "\n",
      "2 is out!\n",
      "\n",
      "s=0\n",
      "survivors=[]\n",
      "candidates=['0', '1', '3']\n",
      "\n",
      "s=1\n",
      "survivors=['0']\n",
      "candidates=['1', '3']\n",
      "\n",
      "s=2\n",
      "survivors=['0', '1']\n",
      "candidates=['3']\n",
      "\n",
      "3 is out!\n",
      "\n",
      "s=0\n",
      "survivors=[]\n",
      "candidates=['0', '1']\n",
      "\n",
      "s=1\n",
      "survivors=['0']\n",
      "candidates=['1']\n",
      "\n",
      "s=2\n",
      "survivors=[]\n",
      "candidates=['0', '1']\n",
      "\n",
      "0 is out!\n",
      "\n",
      "s=0\n",
      "survivors=[]\n",
      "candidates=['1']\n",
      "\n"
     ]
    },
    {
     "data": {
      "text/plain": [
       "'1'"
      ]
     },
     "execution_count": 21,
     "metadata": {},
     "output_type": "execute_result"
    }
   ],
   "source": [
    "#candidates = ['0','1','2'.'3']\n",
    "#skip=2\n",
    "#start=0\n",
    "#['0','1'.'3']\n",
    "#['0','1']\n",
    "#['1']\n",
    "\n",
    "#survivor should be '1'\n",
    "freeMan(0,4,True,2)"
   ]
  },
  {
   "cell_type": "code",
   "execution_count": 22,
   "metadata": {},
   "outputs": [
    {
     "name": "stdout",
     "output_type": "stream",
     "text": [
      "s=1\n",
      "survivors=[]\n",
      "candidates=['0', '1', '2', '3']\n",
      "\n",
      "s=2\n",
      "survivors=['0']\n",
      "candidates=['1', '2', '3']\n",
      "\n",
      "s=3\n",
      "survivors=['0', '1']\n",
      "candidates=['2', '3']\n",
      "\n",
      "2 is out!\n",
      "\n",
      "s=0\n",
      "survivors=[]\n",
      "candidates=['0', '1', '3']\n",
      "\n",
      "s=1\n",
      "survivors=['0']\n",
      "candidates=['1', '3']\n",
      "\n",
      "s=2\n",
      "survivors=['0', '1']\n",
      "candidates=['3']\n",
      "\n",
      "3 is out!\n",
      "\n",
      "s=0\n",
      "survivors=[]\n",
      "candidates=['0', '1']\n",
      "\n",
      "s=1\n",
      "survivors=['0']\n",
      "candidates=['1']\n",
      "\n",
      "s=2\n",
      "survivors=[]\n",
      "candidates=['0', '1']\n",
      "\n",
      "0 is out!\n",
      "\n",
      "s=0\n",
      "survivors=[]\n",
      "candidates=['1']\n",
      "\n"
     ]
    },
    {
     "data": {
      "text/plain": [
       "'1'"
      ]
     },
     "execution_count": 22,
     "metadata": {},
     "output_type": "execute_result"
    }
   ],
   "source": [
    "#candidates = ['0','1','2'.'3']\n",
    "#skip=2\n",
    "#start=1\n",
    "#['0','1'.'2']\n",
    "#['0','1']\n",
    "#['1']\n",
    "#survivor should be '1'\n",
    "freeMan(1,4,True,2)"
   ]
  },
  {
   "cell_type": "code",
   "execution_count": 23,
   "metadata": {},
   "outputs": [
    {
     "name": "stdout",
     "output_type": "stream",
     "text": [
      "s=1\n",
      "survivors=[]\n",
      "candidates=['0', '1', '2', '3']\n",
      "\n",
      "s=2\n",
      "survivors=['0']\n",
      "candidates=['1', '2', '3']\n",
      "\n",
      "s=3\n",
      "survivors=['0', '1']\n",
      "candidates=['2', '3']\n",
      "\n",
      "s=4\n",
      "survivors=['0', '1', '2']\n",
      "candidates=['3']\n",
      "\n",
      "3 is out!\n",
      "\n",
      "s=0\n",
      "survivors=[]\n",
      "candidates=['0', '1', '2']\n",
      "\n",
      "s=1\n",
      "survivors=['0']\n",
      "candidates=['1', '2']\n",
      "\n",
      "s=2\n",
      "survivors=['0', '1']\n",
      "candidates=['2']\n",
      "\n",
      "s=3\n",
      "survivors=[]\n",
      "candidates=['0', '1', '2']\n",
      "\n",
      "0 is out!\n",
      "\n",
      "s=0\n",
      "survivors=[]\n",
      "candidates=['1', '2']\n",
      "\n",
      "s=1\n",
      "survivors=['1']\n",
      "candidates=['2']\n",
      "\n",
      "s=2\n",
      "survivors=[]\n",
      "candidates=['1', '2']\n",
      "\n",
      "s=3\n",
      "survivors=['1']\n",
      "candidates=['2']\n",
      "\n",
      "2 is out!\n",
      "\n",
      "s=0\n",
      "survivors=[]\n",
      "candidates=['1']\n",
      "\n"
     ]
    },
    {
     "data": {
      "text/plain": [
       "'1'"
      ]
     },
     "execution_count": 23,
     "metadata": {},
     "output_type": "execute_result"
    }
   ],
   "source": [
    "#candidates = ['0','1','2','3']\n",
    "#skip=3\n",
    "#start=1\n",
    "#['1','2','3']\n",
    "#['1','3']\n",
    "#['1']\n",
    "#survivor should be '1'\n",
    "freeMan(1,4,True,3)"
   ]
  },
  {
   "cell_type": "code",
   "execution_count": 24,
   "metadata": {},
   "outputs": [
    {
     "name": "stdout",
     "output_type": "stream",
     "text": [
      "s=2\n",
      "survivors=[]\n",
      "candidates=['0', '1', '2', '3']\n",
      "\n",
      "s=3\n",
      "survivors=['0']\n",
      "candidates=['1', '2', '3']\n",
      "\n",
      "s=4\n",
      "survivors=['0', '1']\n",
      "candidates=['2', '3']\n",
      "\n",
      "s=5\n",
      "survivors=['0', '1', '2']\n",
      "candidates=['3']\n",
      "\n",
      "3 is out!\n",
      "\n",
      "s=0\n",
      "survivors=[]\n",
      "candidates=['0', '1', '2']\n",
      "\n",
      "s=1\n",
      "survivors=['0']\n",
      "candidates=['1', '2']\n",
      "\n",
      "s=2\n",
      "survivors=['0', '1']\n",
      "candidates=['2']\n",
      "\n",
      "s=3\n",
      "survivors=[]\n",
      "candidates=['0', '1', '2']\n",
      "\n",
      "0 is out!\n",
      "\n",
      "s=0\n",
      "survivors=[]\n",
      "candidates=['1', '2']\n",
      "\n",
      "s=1\n",
      "survivors=['1']\n",
      "candidates=['2']\n",
      "\n",
      "s=2\n",
      "survivors=[]\n",
      "candidates=['1', '2']\n",
      "\n",
      "s=3\n",
      "survivors=['1']\n",
      "candidates=['2']\n",
      "\n",
      "2 is out!\n",
      "\n",
      "s=0\n",
      "survivors=[]\n",
      "candidates=['1']\n",
      "\n"
     ]
    },
    {
     "data": {
      "text/plain": [
       "'1'"
      ]
     },
     "execution_count": 24,
     "metadata": {},
     "output_type": "execute_result"
    }
   ],
   "source": [
    "#candidates = ['0','1','2','3']\n",
    "#skip=3\n",
    "#start=2\n",
    "#['0','1','3']\n",
    "#['0','1']\n",
    "#['0']\n",
    "#survivor should be '0'\n",
    "freeMan(2,4,True,3)"
   ]
  },
  {
   "cell_type": "markdown",
   "metadata": {},
   "source": [
    "## Implementing with 1 queue"
   ]
  },
  {
   "cell_type": "code",
   "execution_count": 25,
   "metadata": {},
   "outputs": [
    {
     "data": {
      "text/plain": [
       "'1'"
      ]
     },
     "execution_count": 25,
     "metadata": {},
     "output_type": "execute_result"
    }
   ],
   "source": [
    "#we will initiate a queue of the size of initial number of poeple called \"candidates\"\n",
    "#then we will get or pop the specfied number of poeple to skip into and put them back into the same queue\n",
    "#the next person after the persons to be skipped is the \"looser\" that person will be popped and will not be introduced in the again queue\n",
    "#we continue until the size of the queue is 1 the survivor is called \"josephus\"\n",
    "def freeMan(startIndex=0, numberOfPeople=3, forward=True, skip=2,verbose=False):\n",
    "    candidates=Queue(0)\n",
    "    startIndex=startIndex\n",
    "    direction=forward\n",
    "    skip=skip#\n",
    "    \n",
    "    #fill up the initial candidates names we will start with 0\n",
    "    i=0\n",
    "    while i in range(numberOfPeople):\n",
    "        candidates.put(str(i),block=False)#['0','1','2']\n",
    "        i +=1\n",
    "    #let's start the count\n",
    "    s=0#0\n",
    "    \n",
    "    while True:\n",
    "        if verbose:\n",
    "            print(\"s=%d\"%s)\n",
    "            print(\"candidates=\"+str([x for x in candidates.queue])+'\\n')\n",
    "        \n",
    "        if candidates.qsize()==1:#False\n",
    "            flavius=candidates.get(block=False)#flavius=\n",
    "            return flavius #to the Romans\n",
    "            \n",
    "        \n",
    "        if s != startIndex+skip:#True\n",
    "            candidates.put(candidates.get(block=False),block=False)\n",
    "                #candidates=\n",
    "        else:\n",
    "            looser=candidates.get(block=False)#'0'\n",
    "            #candidates=\n",
    "            if verbose:\n",
    "                print(\"%s is out!\\n\"%looser)     \n",
    "            s = 0#\n",
    "            continue\n",
    "        s += 1#\n",
    "\n",
    "#candidates = ['0','1','2']\n",
    "#skip=2\n",
    "#start=0\n",
    "#['0','1']\n",
    "#['1']\n",
    "#['1']\n",
    "freeMan()"
   ]
  },
  {
   "cell_type": "code",
   "execution_count": 26,
   "metadata": {},
   "outputs": [
    {
     "name": "stdout",
     "output_type": "stream",
     "text": [
      "s=0\n",
      "candidates=['0', '1', '2', '3']\n",
      "\n",
      "s=1\n",
      "candidates=['1', '2', '3', '0']\n",
      "\n",
      "s=2\n",
      "candidates=['2', '3', '0', '1']\n",
      "\n",
      "2 is out!\n",
      "\n",
      "s=0\n",
      "candidates=['3', '0', '1']\n",
      "\n",
      "s=1\n",
      "candidates=['0', '1', '3']\n",
      "\n",
      "s=2\n",
      "candidates=['1', '3', '0']\n",
      "\n",
      "1 is out!\n",
      "\n",
      "s=0\n",
      "candidates=['3', '0']\n",
      "\n",
      "s=1\n",
      "candidates=['0', '3']\n",
      "\n",
      "s=2\n",
      "candidates=['3', '0']\n",
      "\n",
      "3 is out!\n",
      "\n",
      "s=0\n",
      "candidates=['0']\n",
      "\n"
     ]
    },
    {
     "data": {
      "text/plain": [
       "'0'"
      ]
     },
     "execution_count": 26,
     "metadata": {},
     "output_type": "execute_result"
    }
   ],
   "source": [
    "#candidates = ['0','1','2','3']\n",
    "#skip=2\n",
    "#start=0\n",
    "#['0','1','3']\n",
    "#['0','1']\n",
    "#['0']\n",
    "\n",
    "#survivor should be '0'\n",
    "freeMan(0,4,True,2,True)"
   ]
  },
  {
   "cell_type": "markdown",
   "metadata": {},
   "source": [
    "# Double Ended Queue (dequeue) "
   ]
  },
  {
   "cell_type": "markdown",
   "metadata": {},
   "source": [
    "according to the following <a href=\"https://stackoverflow.com/questions/6256983/how-are-deques-in-python-implemented-and-when-are-they-worse-than-lists\">post</a> the double ended queue type in python is a doudly linked list that is very efficent for inserting an poping objects with a complexity of O(1). this is more efficient than a regular list which may have an O(n) complexity when inserting at the head of a list."
   ]
  },
  {
   "cell_type": "code",
   "execution_count": 5,
   "metadata": {},
   "outputs": [
    {
     "name": "stdout",
     "output_type": "stream",
     "text": [
      "deque([1, 2])\n"
     ]
    }
   ],
   "source": [
    "from collections import deque\n",
    "\n",
    "d=deque()\n",
    "d.append(1)\n",
    "d.append(2)\n",
    "print(d)"
   ]
  },
  {
   "cell_type": "code",
   "execution_count": 6,
   "metadata": {},
   "outputs": [
    {
     "name": "stdout",
     "output_type": "stream",
     "text": [
      "deque([3, 1, 2])\n"
     ]
    }
   ],
   "source": [
    "d.appendleft(3)\n",
    "print(d)"
   ]
  },
  {
   "cell_type": "code",
   "execution_count": 7,
   "metadata": {},
   "outputs": [
    {
     "name": "stdout",
     "output_type": "stream",
     "text": [
      "deque([2, 3, 1])\n"
     ]
    }
   ],
   "source": [
    "d.rotate()\n",
    "print(d)"
   ]
  },
  {
   "cell_type": "code",
   "execution_count": 9,
   "metadata": {},
   "outputs": [
    {
     "name": "stdout",
     "output_type": "stream",
     "text": [
      "deque([1, 3, 2])\n"
     ]
    }
   ],
   "source": [
    "d.reverse()\n",
    "print(d)"
   ]
  },
  {
   "cell_type": "code",
   "execution_count": 14,
   "metadata": {},
   "outputs": [
    {
     "data": {
      "text/plain": [
       "2"
      ]
     },
     "execution_count": 14,
     "metadata": {},
     "output_type": "execute_result"
    }
   ],
   "source": [
    "d.appendleft(3)\n",
    "d.count(3)"
   ]
  },
  {
   "cell_type": "code",
   "execution_count": 15,
   "metadata": {},
   "outputs": [
    {
     "name": "stdout",
     "output_type": "stream",
     "text": [
      "deque([])\n"
     ]
    }
   ],
   "source": [
    "d.clear()\n",
    "print(d)"
   ]
  },
  {
   "cell_type": "markdown",
   "metadata": {},
   "source": [
    "## Palydrome"
   ]
  },
  {
   "cell_type": "code",
   "execution_count": 19,
   "metadata": {},
   "outputs": [
    {
     "data": {
      "text/plain": [
       "True"
      ]
     },
     "execution_count": 19,
     "metadata": {},
     "output_type": "execute_result"
    }
   ],
   "source": [
    "def isPalyndrome(word: str):\n",
    "    d=deque()\n",
    "    rev_str=deque()\n",
    "    for c in word:\n",
    "        d.append(c)\n",
    "    f=d.copy()\n",
    "    d.reverse()\n",
    "    if f==d:\n",
    "        return True\n",
    "    return False\n",
    "isPalyndrome('toot')\n",
    "        "
   ]
  },
  {
   "cell_type": "code",
   "execution_count": 20,
   "metadata": {},
   "outputs": [
    {
     "data": {
      "text/plain": [
       "False"
      ]
     },
     "execution_count": 20,
     "metadata": {},
     "output_type": "execute_result"
    }
   ],
   "source": [
    "isPalyndrome('palyndrome')"
   ]
  },
  {
   "cell_type": "code",
   "execution_count": 21,
   "metadata": {},
   "outputs": [
    {
     "data": {
      "text/plain": [
       "True"
      ]
     },
     "execution_count": 21,
     "metadata": {},
     "output_type": "execute_result"
    }
   ],
   "source": [
    "isPalyndrome('deed')"
   ]
  },
  {
   "cell_type": "markdown",
   "metadata": {},
   "source": [
    "## Implementing The Josephus Problem Using a deque "
   ]
  },
  {
   "cell_type": "code",
   "execution_count": 10,
   "metadata": {},
   "outputs": [
    {
     "data": {
      "text/plain": [
       "'1'"
      ]
     },
     "execution_count": 10,
     "metadata": {},
     "output_type": "execute_result"
    }
   ],
   "source": [
    "from collections import deque\n",
    "def freeMan(startIndex=0, numberOfPeople=3, forward=True, skip=2,verbose=False):\n",
    "    candidates=deque()\n",
    "    startIndex=startIndex\n",
    "    direction=forward\n",
    "    skip=skip#\n",
    "    \n",
    "    #fill up the initial candidates names we will start with 0\n",
    "    i=0\n",
    "    while i in range(numberOfPeople):\n",
    "        candidates.append(str(i))#['0','1','2']\n",
    "        i +=1\n",
    "    #let's start the count\n",
    "    s=0#0\n",
    "    \n",
    "    while True:\n",
    "        if verbose:\n",
    "            print(\"s=%d\"%s)\n",
    "            print(\"candidates=\"+str(candidates)+'\\n')\n",
    "        \n",
    "        if len(candidates)==1:#False\n",
    "            flavius=candidates.popleft()#flavius=\n",
    "            return flavius #to the Romans\n",
    "            \n",
    "        \n",
    "        if s != startIndex+skip:#True\n",
    "            candidates.rotate(-1)\n",
    "                #candidates=\n",
    "        else:\n",
    "            looser=candidates.popleft()#'0'\n",
    "            #candidates=\n",
    "            if verbose:\n",
    "                print(\"%s is out!\\n\"%looser)     \n",
    "            s = 0#\n",
    "            continue\n",
    "        s += 1#\n",
    "\n",
    "#candidates = ['0','1','2']\n",
    "#skip=2\n",
    "#start=0\n",
    "#['0','1']\n",
    "#['1']\n",
    "#['1']\n",
    "freeMan()"
   ]
  },
  {
   "cell_type": "code",
   "execution_count": 11,
   "metadata": {},
   "outputs": [
    {
     "name": "stdout",
     "output_type": "stream",
     "text": [
      "s=0\n",
      "candidates=deque(['0', '1', '2', '3'])\n",
      "\n",
      "s=1\n",
      "candidates=deque(['1', '2', '3', '0'])\n",
      "\n",
      "s=2\n",
      "candidates=deque(['2', '3', '0', '1'])\n",
      "\n",
      "2 is out!\n",
      "\n",
      "s=0\n",
      "candidates=deque(['3', '0', '1'])\n",
      "\n",
      "s=1\n",
      "candidates=deque(['0', '1', '3'])\n",
      "\n",
      "s=2\n",
      "candidates=deque(['1', '3', '0'])\n",
      "\n",
      "1 is out!\n",
      "\n",
      "s=0\n",
      "candidates=deque(['3', '0'])\n",
      "\n",
      "s=1\n",
      "candidates=deque(['0', '3'])\n",
      "\n",
      "s=2\n",
      "candidates=deque(['3', '0'])\n",
      "\n",
      "3 is out!\n",
      "\n",
      "s=0\n",
      "candidates=deque(['0'])\n",
      "\n"
     ]
    },
    {
     "data": {
      "text/plain": [
       "'0'"
      ]
     },
     "execution_count": 11,
     "metadata": {},
     "output_type": "execute_result"
    }
   ],
   "source": [
    "freeMan(0,4,True,2,True)"
   ]
  },
  {
   "cell_type": "markdown",
   "metadata": {},
   "source": [
    "# Linked Lists"
   ]
  },
  {
   "cell_type": "markdown",
   "metadata": {},
   "source": [
    "For fun I am going to implement a doubly linked list in python. it's been a while since I have done that. Ack in college I had to do it in Pascal and then C."
   ]
  },
  {
   "cell_type": "code",
   "execution_count": 204,
   "metadata": {},
   "outputs": [],
   "source": [
    "#Let's first define a node Class\n",
    "class Node(object):\n",
    "    def __init__(self,item=None):\n",
    "        self.next=None\n",
    "        self.prev=None\n",
    "        self.item=item\n",
    "#Then let's implement the actual List\n",
    "class DoubleLinkedList(object):\n",
    "    def __init__(self):\n",
    "        self.head=None\n",
    "        \n",
    "    def append(self,item,head=True):\n",
    "        newNode=Node(item)  \n",
    "        if self.head==None:\n",
    "            self.head=newNode\n",
    "        elif head:\n",
    "            #O(1)\n",
    "            self.head.prev=newNode\n",
    "            newNode.next=self.head\n",
    "            self.head=newNode\n",
    "        else:\n",
    "            #O(n)\n",
    "            nextNode=self.head\n",
    "            while nextNode.next !=None:\n",
    "                nextNode=nextNode.next\n",
    "            nextNode.next=newNode\n",
    "            newNode.prev=nextNode\n",
    "    \n",
    "    def pop(self,head=True):\n",
    "        if self.head==None:\n",
    "            raise self.EmptyList\n",
    "        elif head:\n",
    "            #O(1)\n",
    "            item=self.head.item\n",
    "            if self.head.next:\n",
    "                self.head.next.prev=None\n",
    "                self.head=self.head.next\n",
    "            else:\n",
    "                self.head=None\n",
    "            return item\n",
    "        else:\n",
    "            #O(n)\n",
    "            nextNode=self.head\n",
    "            while nextNode.next !=None:\n",
    "                nextNode=nextNode.next\n",
    "            item=nextNode.item\n",
    "            nextNode.prev.next=None\n",
    "            return item\n",
    "    \n",
    "    def rotate(self,head=True):\n",
    "        if len(self)==1:\n",
    "            return\n",
    "        if head:\n",
    "            item=self.pop()\n",
    "            newNode=self.append(item,False)\n",
    "        else:\n",
    "            item=self.pop(False)\n",
    "            newNode=self.append(item)\n",
    "    \n",
    "    def __str__(self):\n",
    "        representation=\"\"\n",
    "        nextNode=self.head\n",
    "        while nextNode.next !=None:\n",
    "            representation += str(nextNode.item)\n",
    "            representation += \"=>\"\n",
    "            nextNode=nextNode.next\n",
    "        #last item\n",
    "        representation += str(nextNode.item)\n",
    "        return representation\n",
    "    \n",
    "    def __len__(self):\n",
    "        length=0\n",
    "        if self.head !=None:\n",
    "            nextNode=self.head\n",
    "            length+=1\n",
    "            while nextNode.next !=None:\n",
    "                length +=1\n",
    "                nextNode=nextNode.next\n",
    "        return length\n",
    "    \n",
    "    def size(self):\n",
    "        return len(self)\n",
    "    #Exception\n",
    "    class EmptyList(Exception):\n",
    "        pass\n",
    "\n",
    "                \n"
   ]
  },
  {
   "cell_type": "code",
   "execution_count": 205,
   "metadata": {},
   "outputs": [
    {
     "ename": "EmptyList",
     "evalue": "",
     "output_type": "error",
     "traceback": [
      "\u001b[0;31m---------------------------------------------------------------------------\u001b[0m",
      "\u001b[0;31mEmptyList\u001b[0m                                 Traceback (most recent call last)",
      "\u001b[0;32m<ipython-input-205-0c4193df0bdc>\u001b[0m in \u001b[0;36m<module>\u001b[0;34m\u001b[0m\n\u001b[1;32m      1\u001b[0m \u001b[0mll\u001b[0m\u001b[0;34m=\u001b[0m\u001b[0mDoubleLinkedList\u001b[0m\u001b[0;34m(\u001b[0m\u001b[0;34m)\u001b[0m\u001b[0;34m\u001b[0m\u001b[0;34m\u001b[0m\u001b[0m\n\u001b[0;32m----> 2\u001b[0;31m \u001b[0mll\u001b[0m\u001b[0;34m.\u001b[0m\u001b[0mpop\u001b[0m\u001b[0;34m(\u001b[0m\u001b[0;34m)\u001b[0m\u001b[0;34m\u001b[0m\u001b[0;34m\u001b[0m\u001b[0m\n\u001b[0m",
      "\u001b[0;32m<ipython-input-204-d1aa6e8cc0f5>\u001b[0m in \u001b[0;36mpop\u001b[0;34m(self, head)\u001b[0m\n\u001b[1;32m     29\u001b[0m     \u001b[0;32mdef\u001b[0m \u001b[0mpop\u001b[0m\u001b[0;34m(\u001b[0m\u001b[0mself\u001b[0m\u001b[0;34m,\u001b[0m\u001b[0mhead\u001b[0m\u001b[0;34m=\u001b[0m\u001b[0;32mTrue\u001b[0m\u001b[0;34m)\u001b[0m\u001b[0;34m:\u001b[0m\u001b[0;34m\u001b[0m\u001b[0;34m\u001b[0m\u001b[0m\n\u001b[1;32m     30\u001b[0m         \u001b[0;32mif\u001b[0m \u001b[0mself\u001b[0m\u001b[0;34m.\u001b[0m\u001b[0mhead\u001b[0m\u001b[0;34m==\u001b[0m\u001b[0;32mNone\u001b[0m\u001b[0;34m:\u001b[0m\u001b[0;34m\u001b[0m\u001b[0;34m\u001b[0m\u001b[0m\n\u001b[0;32m---> 31\u001b[0;31m             \u001b[0;32mraise\u001b[0m \u001b[0mself\u001b[0m\u001b[0;34m.\u001b[0m\u001b[0mEmptyList\u001b[0m\u001b[0;34m\u001b[0m\u001b[0;34m\u001b[0m\u001b[0m\n\u001b[0m\u001b[1;32m     32\u001b[0m         \u001b[0;32melif\u001b[0m \u001b[0mhead\u001b[0m\u001b[0;34m:\u001b[0m\u001b[0;34m\u001b[0m\u001b[0;34m\u001b[0m\u001b[0m\n\u001b[1;32m     33\u001b[0m             \u001b[0;31m#O(1)\u001b[0m\u001b[0;34m\u001b[0m\u001b[0;34m\u001b[0m\u001b[0;34m\u001b[0m\u001b[0m\n",
      "\u001b[0;31mEmptyList\u001b[0m: "
     ]
    }
   ],
   "source": [
    "ll=DoubleLinkedList()\n",
    "ll.pop()"
   ]
  },
  {
   "cell_type": "code",
   "execution_count": 206,
   "metadata": {},
   "outputs": [],
   "source": [
    "\n",
    "ll.append(1)"
   ]
  },
  {
   "cell_type": "code",
   "execution_count": 207,
   "metadata": {},
   "outputs": [
    {
     "name": "stdout",
     "output_type": "stream",
     "text": [
      "1\n"
     ]
    }
   ],
   "source": [
    "print(ll)"
   ]
  },
  {
   "cell_type": "code",
   "execution_count": 208,
   "metadata": {},
   "outputs": [
    {
     "name": "stdout",
     "output_type": "stream",
     "text": [
      "3=>2=>1\n"
     ]
    }
   ],
   "source": [
    "ll.append(2)\n",
    "ll.append(3)\n",
    "print(ll)"
   ]
  },
  {
   "cell_type": "code",
   "execution_count": 209,
   "metadata": {},
   "outputs": [
    {
     "name": "stdout",
     "output_type": "stream",
     "text": [
      "3=>2=>1=>x=>y=>z\n"
     ]
    }
   ],
   "source": [
    "ll.append(\"x\",head=False)\n",
    "ll.append(\"y\",head=False)\n",
    "ll.append(\"z\",head=False)\n",
    "print(ll)"
   ]
  },
  {
   "cell_type": "code",
   "execution_count": 210,
   "metadata": {},
   "outputs": [
    {
     "data": {
      "text/plain": [
       "6"
      ]
     },
     "execution_count": 210,
     "metadata": {},
     "output_type": "execute_result"
    }
   ],
   "source": [
    "len(ll)"
   ]
  },
  {
   "cell_type": "code",
   "execution_count": 211,
   "metadata": {},
   "outputs": [
    {
     "data": {
      "text/plain": [
       "6"
      ]
     },
     "execution_count": 211,
     "metadata": {},
     "output_type": "execute_result"
    }
   ],
   "source": [
    "ll.size()"
   ]
  },
  {
   "cell_type": "code",
   "execution_count": 212,
   "metadata": {},
   "outputs": [
    {
     "data": {
      "text/plain": [
       "3"
      ]
     },
     "execution_count": 212,
     "metadata": {},
     "output_type": "execute_result"
    }
   ],
   "source": [
    "ll.pop()"
   ]
  },
  {
   "cell_type": "code",
   "execution_count": 213,
   "metadata": {},
   "outputs": [
    {
     "name": "stdout",
     "output_type": "stream",
     "text": [
      "2=>1=>x=>y=>z\n"
     ]
    }
   ],
   "source": [
    "print(ll)"
   ]
  },
  {
   "cell_type": "code",
   "execution_count": 214,
   "metadata": {},
   "outputs": [
    {
     "data": {
      "text/plain": [
       "'z'"
      ]
     },
     "execution_count": 214,
     "metadata": {},
     "output_type": "execute_result"
    }
   ],
   "source": [
    "ll.pop(False)"
   ]
  },
  {
   "cell_type": "code",
   "execution_count": 215,
   "metadata": {},
   "outputs": [
    {
     "name": "stdout",
     "output_type": "stream",
     "text": [
      "2=>1=>x=>y\n"
     ]
    }
   ],
   "source": [
    "print(ll)"
   ]
  },
  {
   "cell_type": "code",
   "execution_count": 216,
   "metadata": {},
   "outputs": [
    {
     "name": "stdout",
     "output_type": "stream",
     "text": [
      "1=>x=>y=>2\n"
     ]
    }
   ],
   "source": [
    "ll.rotate()\n",
    "print(ll)"
   ]
  },
  {
   "cell_type": "code",
   "execution_count": 217,
   "metadata": {},
   "outputs": [
    {
     "name": "stdout",
     "output_type": "stream",
     "text": [
      "2=>1=>x=>y\n"
     ]
    }
   ],
   "source": [
    "ll.rotate(False)\n",
    "print(ll)"
   ]
  },
  {
   "cell_type": "markdown",
   "metadata": {},
   "source": [
    "## Implementing The Josephus Problem Using my Linked List"
   ]
  },
  {
   "cell_type": "code",
   "execution_count": 218,
   "metadata": {},
   "outputs": [
    {
     "data": {
      "text/plain": [
       "'1'"
      ]
     },
     "execution_count": 218,
     "metadata": {},
     "output_type": "execute_result"
    }
   ],
   "source": [
    "def freeMan(startIndex=0, numberOfPeople=3, forward=True, skip=2,verbose=False):\n",
    "    candidates=DoubleLinkedList()\n",
    "    startIndex=startIndex\n",
    "    direction=forward\n",
    "    skip=skip#\n",
    "    \n",
    "    #fill up the initial candidates names we will start with 0\n",
    "    i=0\n",
    "    while i in range(numberOfPeople):\n",
    "        candidates.append(str(i),False)#['0','1','2']\n",
    "        i +=1\n",
    "    #let's start the count\n",
    "    s=0#0\n",
    "    \n",
    "    while True:\n",
    "        if verbose:\n",
    "            print(\"s=%d\"%s)\n",
    "            print(\"candidates=\"+str(candidates)+'\\n')\n",
    "        \n",
    "        if len(candidates)==1:#False\n",
    "            flavius=candidates.pop()#flavius=\n",
    "            return flavius #to the Romans\n",
    "            \n",
    "        \n",
    "        if s != startIndex+skip:#True\n",
    "            candidates.rotate()\n",
    "                #candidates=\n",
    "        else:\n",
    "            looser=candidates.pop()#'0'\n",
    "            #candidates=\n",
    "            if verbose:\n",
    "                print(\"%s is out!\\n\"%looser)     \n",
    "            s = 0#\n",
    "            continue\n",
    "        s += 1#\n",
    "\n",
    "#candidates = ['0','1','2']\n",
    "#skip=2\n",
    "#start=0\n",
    "#['0','1']\n",
    "#['1']\n",
    "#['1']\n",
    "freeMan()"
   ]
  },
  {
   "cell_type": "code",
   "execution_count": null,
   "metadata": {},
   "outputs": [],
   "source": [
    "freeMan(0,4,True,2,True)"
   ]
  }
 ],
 "metadata": {
  "kernelspec": {
   "display_name": "Python 3",
   "language": "python",
   "name": "python3"
  }
 },
 "nbformat": 4,
 "nbformat_minor": 2
}
