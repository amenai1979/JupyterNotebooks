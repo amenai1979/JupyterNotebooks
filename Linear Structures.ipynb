{
 "cells": [
  {
   "cell_type": "markdown",
   "metadata": {},
   "source": [
    "# Stack (Pile)"
   ]
  },
  {
   "cell_type": "code",
   "execution_count": 31,
   "metadata": {},
   "outputs": [],
   "source": [
    "class Stack(object):\n",
    "    def __init__(self):\n",
    "        self.items=[]\n",
    "    def push(self,*args):\n",
    "        for i in args:\n",
    "            self.items.append(i)\n",
    "    def pop(self):\n",
    "        item=self.items[len(self.items)-1]\n",
    "        self.items.remove(item)\n",
    "        return item\n",
    "    def peek(self):\n",
    "        return self.items[self.size()-1]\n",
    "    def size(self):\n",
    "        return len(self.items)\n",
    "    def isEmpty(self):\n",
    "        return not bool(self.size())\n",
    "    \n",
    "        "
   ]
  },
  {
   "cell_type": "code",
   "execution_count": 33,
   "metadata": {},
   "outputs": [
    {
     "name": "stdout",
     "output_type": "stream",
     "text": [
      "True\n",
      "3\n",
      "3\n",
      "2\n",
      "False\n"
     ]
    }
   ],
   "source": [
    "mystack=Stack()\n",
    "print(mystack.isEmpty())\n",
    "mystack.push(1,2,3)\n",
    "print(mystack.peek())\n",
    "print(mystack.pop())\n",
    "print(mystack.size())\n",
    "print(mystack.isEmpty())"
   ]
  },
  {
   "cell_type": "markdown",
   "metadata": {},
   "source": [
    "## reverse function using a stack"
   ]
  },
  {
   "cell_type": "code",
   "execution_count": 40,
   "metadata": {},
   "outputs": [],
   "source": [
    "def reverse(*args):\n",
    "    l=Stack()\n",
    "    for x in args:\n",
    "        l.push(x)\n",
    "    reverse=[]\n",
    "    while not l.isEmpty():\n",
    "        reverse.append(l.pop())\n",
    "    return reverse"
   ]
  },
  {
   "cell_type": "code",
   "execution_count": 41,
   "metadata": {},
   "outputs": [
    {
     "data": {
      "text/plain": [
       "['t', 'a', 'c']"
      ]
     },
     "execution_count": 41,
     "metadata": {},
     "output_type": "execute_result"
    }
   ],
   "source": [
    "reverse('c','a','t')"
   ]
  },
  {
   "cell_type": "markdown",
   "metadata": {},
   "source": [
    "## Balanced Symbols"
   ]
  },
  {
   "cell_type": "code",
   "execution_count": 45,
   "metadata": {},
   "outputs": [],
   "source": [
    "def balancedParantheses(expression):\n",
    "    if not set(list(expression))=={\"(\",\")\"}:\n",
    "        return False\n",
    "    pstack=Stack()\n",
    "    for p in expression:\n",
    "        if p==\"(\":\n",
    "            pstack.push(1)\n",
    "        else:\n",
    "            if pstack.size()>0:\n",
    "                pstack.pop()\n",
    "            else: \n",
    "                return False\n",
    "    if pstack.size() ==0:\n",
    "        return True"
   ]
  },
  {
   "cell_type": "code",
   "execution_count": 46,
   "metadata": {},
   "outputs": [
    {
     "data": {
      "text/plain": [
       "True"
      ]
     },
     "execution_count": 46,
     "metadata": {},
     "output_type": "execute_result"
    }
   ],
   "source": [
    "balancedParantheses(\"()\")"
   ]
  },
  {
   "cell_type": "code",
   "execution_count": 47,
   "metadata": {},
   "outputs": [
    {
     "data": {
      "text/plain": [
       "False"
      ]
     },
     "execution_count": 47,
     "metadata": {},
     "output_type": "execute_result"
    }
   ],
   "source": [
    "balancedParantheses(\")(\")"
   ]
  },
  {
   "cell_type": "code",
   "execution_count": 48,
   "metadata": {},
   "outputs": [
    {
     "data": {
      "text/plain": [
       "True"
      ]
     },
     "execution_count": 48,
     "metadata": {},
     "output_type": "execute_result"
    }
   ],
   "source": [
    "balancedParantheses(\"(()()())\")"
   ]
  },
  {
   "cell_type": "code",
   "execution_count": 49,
   "metadata": {},
   "outputs": [
    {
     "data": {
      "text/plain": [
       "False"
      ]
     },
     "execution_count": 49,
     "metadata": {},
     "output_type": "execute_result"
    }
   ],
   "source": [
    "balancedParantheses(\"(()()()))\")"
   ]
  },
  {
   "cell_type": "code",
   "execution_count": 53,
   "metadata": {},
   "outputs": [],
   "source": [
    "opening=\"({[<\"\n",
    "closing=\")}]>\"\n",
    "def balancedSymbols(expression):\n",
    "    if not set(list(expression))=={\"(\",\")\",\"{\",\"}\",\"[\",\"]\",\"<\",\">\"}:\n",
    "        return False\n",
    "    pstack=Stack()\n",
    "    for p in expression:\n",
    "        if p in opening:\n",
    "            pstack.push(p)\n",
    "        elif p in closing:\n",
    "            if pstack.size()>0 and matchsymbol(pstack.peek(),p):\n",
    "                pstack.pop()\n",
    "            else: \n",
    "                return False\n",
    "    if pstack.size() ==0:\n",
    "        return True\n",
    "def matchsymbol(o: str, c: str):\n",
    "    if closing.index(c)==opening.index(o):\n",
    "        return True\n",
    "    else: \n",
    "        return False"
   ]
  },
  {
   "cell_type": "code",
   "execution_count": 54,
   "metadata": {},
   "outputs": [
    {
     "data": {
      "text/plain": [
       "True"
      ]
     },
     "execution_count": 54,
     "metadata": {},
     "output_type": "execute_result"
    }
   ],
   "source": [
    "balancedSymbols(\"([{<>}])\")"
   ]
  },
  {
   "cell_type": "code",
   "execution_count": 55,
   "metadata": {},
   "outputs": [
    {
     "data": {
      "text/plain": [
       "False"
      ]
     },
     "execution_count": 55,
     "metadata": {},
     "output_type": "execute_result"
    }
   ],
   "source": [
    "balancedSymbols(\"([{<>}]]\")"
   ]
  },
  {
   "cell_type": "code",
   "execution_count": 56,
   "metadata": {},
   "outputs": [
    {
     "data": {
      "text/plain": [
       "True"
      ]
     },
     "execution_count": 56,
     "metadata": {},
     "output_type": "execute_result"
    }
   ],
   "source": [
    "balancedSymbols(\"([{<>}])()\")"
   ]
  },
  {
   "cell_type": "code",
   "execution_count": 57,
   "metadata": {},
   "outputs": [
    {
     "data": {
      "text/plain": [
       "False"
      ]
     },
     "execution_count": 57,
     "metadata": {},
     "output_type": "execute_result"
    }
   ],
   "source": [
    "balancedSymbols(\"([{<>}]>\")"
   ]
  },
  {
   "cell_type": "code",
   "execution_count": null,
   "metadata": {},
   "outputs": [],
   "source": []
  }
 ],
 "metadata": {
  "kernelspec": {
   "display_name": "Python 3",
   "language": "python",
   "name": "python3"
  },
  "language_info": {
   "codemirror_mode": {
    "name": "ipython",
    "version": 3
   },
   "file_extension": ".py",
   "mimetype": "text/x-python",
   "name": "python",
   "nbconvert_exporter": "python",
   "pygments_lexer": "ipython3",
   "version": "3.7.1"
  }
 },
 "nbformat": 4,
 "nbformat_minor": 2
}
