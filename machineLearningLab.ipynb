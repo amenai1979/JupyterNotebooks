{
 "cells": [
  {
   "cell_type": "markdown",
   "metadata": {},
   "source": [
    "# Introduction And Problem Statement"
   ]
  },
  {
   "cell_type": "code",
   "execution_count": 213,
   "metadata": {},
   "outputs": [],
   "source": [
    "%config IPCompleter.greedy=True\n",
    "import matplotlib.pyplot as plt\n",
    "import pandas as pd\n",
    "import numpy as np"
   ]
  },
  {
   "cell_type": "markdown",
   "metadata": {},
   "source": [
    "\n",
    "Author: Alexandre Menai (amenai@amenai.net)\n",
    "\n",
    "The purpose of this notebook is to serve as a python machine learning guide for me \n",
    "or others wishing to have some fun (most important) and understand the limitations\n",
    "and Quirks of different AI algorithms.\n",
    "I am writing this as I am reading the excellent book by Raschka, Sebastian and Vahid Mirjalili:\n",
    "Python Machine Learning: Machine Learning and Deep Learning with Python, scikit-learn, and TensorFlow, 2nd Edition.\n",
    "\n",
    "I will be using a slightly different set of examples taken from the aviation world\n",
    "based on multiple factors experienced pilots and regulation impose certain conditions of flights. This lab is an attempt to make decisions based on several physical parameters to fly \n",
    "under instrument conditions (IFR) or visual conditions (VFR)\n",
    "for the sake of discussion we are considering the following parameters: ceiling (cloud altitudes) and visibility\n",
    "we will assume that the binary decision is possible through those parameters that mimic pilot appreciation. \n",
    "<B>CAUTION: PLEASE DO NOT USE THIS FOR FLIGHT DECISION MAKING AND REFER TO YOUR REGULARATORY TEXTS THIS IS JUST AN ILLUSTRATIVE EXAMPLE TO MAKE THE LEARNING PROCESS EASIER!!!</B>\n",
    "\n"
   ]
  },
  {
   "cell_type": "code",
   "execution_count": 214,
   "metadata": {},
   "outputs": [],
   "source": [
    "#generate random training data for convenience and save to csv\n",
    "#initiate a random state for reproductibility of results\n",
    "rgen=np.random.RandomState(0)\n",
    "#generate non linearly separable sets\n",
    "altitudes1 = np.array(rgen.uniform(1800, 2000, 500))\n",
    "visibilities1 = np.array(rgen.uniform(1,2.95, 500))\n",
    "altitudes2=np.array(rgen.uniform(2000,2200,500))\n",
    "visibilities2 = np.array(rgen.uniform(3.05,6,500))\n",
    "#concatenate into the same set\n",
    "altitudes=np.concatenate((altitudes1,altitudes2))\n",
    "visibilities = np.concatenate((visibilities1, visibilities2))\n",
    "#randomize the sets further\n",
    "np.random.shuffle(altitudes)\n",
    "np.random.shuffle(visibilities)\n",
    "##########################################\n",
    "#to proceed with a non linearly separable set\n",
    "#if alt is less than 2000 feet and visi < 3 then IFR otherwise vfr\n",
    "flightrules = np.array(np.where((altitudes < 2000) & (visibilities < 3), 'ifr', 'vfr'))\n",
    "pd.DataFrame({'alt': altitudes, 'visi':visibilities,'cond': flightrules}).to_csv('training_set_nonseperable.csv',index=False)\n",
    "##########################################\n",
    "\n",
    "##########################################\n",
    "#to proceed with a linearly separable set\n",
    "#only consider visibility as the determining factor\n",
    "flightrules = np.array(np.where((visibilities < 3), 'ifr', 'vfr'))\n",
    "pd.DataFrame({'alt': altitudes, 'visi':visibilities,'cond': flightrules}).to_csv('training_set.csv',index=False)"
   ]
  },
  {
   "cell_type": "markdown",
   "metadata": {},
   "source": [
    "Now that we generated the training sets let's take a look at the linrarly sepaparable one more closely"
   ]
  },
  {
   "cell_type": "code",
   "execution_count": 215,
   "metadata": {},
   "outputs": [
    {
     "data": {
      "text/html": [
       "<div>\n",
       "<style scoped>\n",
       "    .dataframe tbody tr th:only-of-type {\n",
       "        vertical-align: middle;\n",
       "    }\n",
       "\n",
       "    .dataframe tbody tr th {\n",
       "        vertical-align: top;\n",
       "    }\n",
       "\n",
       "    .dataframe thead th {\n",
       "        text-align: right;\n",
       "    }\n",
       "</style>\n",
       "<table border=\"1\" class=\"dataframe\">\n",
       "  <thead>\n",
       "    <tr style=\"text-align: right;\">\n",
       "      <th></th>\n",
       "      <th>alt</th>\n",
       "      <th>visi</th>\n",
       "      <th>cond</th>\n",
       "    </tr>\n",
       "  </thead>\n",
       "  <tbody>\n",
       "    <tr>\n",
       "      <th>990</th>\n",
       "      <td>2122.953977</td>\n",
       "      <td>5.404333</td>\n",
       "      <td>vfr</td>\n",
       "    </tr>\n",
       "    <tr>\n",
       "      <th>991</th>\n",
       "      <td>2188.436944</td>\n",
       "      <td>1.345161</td>\n",
       "      <td>vfr</td>\n",
       "    </tr>\n",
       "    <tr>\n",
       "      <th>992</th>\n",
       "      <td>2117.221588</td>\n",
       "      <td>1.001065</td>\n",
       "      <td>vfr</td>\n",
       "    </tr>\n",
       "    <tr>\n",
       "      <th>993</th>\n",
       "      <td>1807.072487</td>\n",
       "      <td>2.317594</td>\n",
       "      <td>ifr</td>\n",
       "    </tr>\n",
       "    <tr>\n",
       "      <th>994</th>\n",
       "      <td>2193.018995</td>\n",
       "      <td>3.493532</td>\n",
       "      <td>vfr</td>\n",
       "    </tr>\n",
       "    <tr>\n",
       "      <th>995</th>\n",
       "      <td>1847.561449</td>\n",
       "      <td>1.195027</td>\n",
       "      <td>ifr</td>\n",
       "    </tr>\n",
       "    <tr>\n",
       "      <th>996</th>\n",
       "      <td>1837.046465</td>\n",
       "      <td>1.166356</td>\n",
       "      <td>ifr</td>\n",
       "    </tr>\n",
       "    <tr>\n",
       "      <th>997</th>\n",
       "      <td>1924.295680</td>\n",
       "      <td>4.413188</td>\n",
       "      <td>vfr</td>\n",
       "    </tr>\n",
       "    <tr>\n",
       "      <th>998</th>\n",
       "      <td>2156.679329</td>\n",
       "      <td>3.752019</td>\n",
       "      <td>vfr</td>\n",
       "    </tr>\n",
       "    <tr>\n",
       "      <th>999</th>\n",
       "      <td>1902.003370</td>\n",
       "      <td>4.264298</td>\n",
       "      <td>vfr</td>\n",
       "    </tr>\n",
       "  </tbody>\n",
       "</table>\n",
       "</div>"
      ],
      "text/plain": [
       "             alt      visi cond\n",
       "990  2122.953977  5.404333  vfr\n",
       "991  2188.436944  1.345161  vfr\n",
       "992  2117.221588  1.001065  vfr\n",
       "993  1807.072487  2.317594  ifr\n",
       "994  2193.018995  3.493532  vfr\n",
       "995  1847.561449  1.195027  ifr\n",
       "996  1837.046465  1.166356  ifr\n",
       "997  1924.295680  4.413188  vfr\n",
       "998  2156.679329  3.752019  vfr\n",
       "999  1902.003370  4.264298  vfr"
      ]
     },
     "execution_count": 215,
     "metadata": {},
     "output_type": "execute_result"
    }
   ],
   "source": [
    "\n",
    "df.tail(10)"
   ]
  },
  {
   "cell_type": "markdown",
   "metadata": {},
   "source": [
    "If we were to consider that IFR conditions need to meet both visibility and ceiling criteria\n",
    "then our problem of classification our phenomenon is NOT linearly separable:"
   ]
  },
  {
   "cell_type": "code",
   "execution_count": 216,
   "metadata": {},
   "outputs": [
    {
     "data": {
      "text/plain": [
       "<matplotlib.text.Text at 0x1125a35c0>"
      ]
     },
     "execution_count": 216,
     "metadata": {},
     "output_type": "execute_result"
    },
    {
     "data": {
      "image/png": "[encoded data removed]",
      "text/plain": [
       "<matplotlib.figure.Figure at 0x11585f630>"
      ]
     },
     "metadata": {
      "needs_background": "light"
     },
     "output_type": "display_data"
    }
   ],
   "source": [
    "#Load it as a numpy array\n",
    "trainingset=np.array(df)\n",
    "#np.random.shuffle(trainingset)\n",
    "# input\n",
    "conditions = np.array(df)[:,[0,1]]\n",
    "# output\n",
    "decision = np.array(df)[:,2]\n",
    "\n",
    "IFR=conditions[(conditions[:,0]<2000) & (conditions[:,1]<3)]\n",
    "VFR=conditions[(conditions[:,0]>2000) | (conditions[:,1]>3)]\n",
    "plt.scatter(IFR[:,0],IFR[:,1],color='red',marker='o')\n",
    "plt.scatter(VFR[:, 0], VFR[:, 1], color='blue',marker='v')\n",
    "plt.xlabel('Altitude (feet)')\n",
    "plt.ylabel('Visibility (sm)')\n",
    "plt.title('IFR (red) vs VFR (blue) Conditions')"
   ]
  },
  {
   "cell_type": "markdown",
   "metadata": {},
   "source": [
    "If we were to consider that IFR conditions need to meet ONLY the visibility criteria\n",
    "then our problem of classification our phenomenon IS linearly separable:"
   ]
  },
  {
   "cell_type": "code",
   "execution_count": 217,
   "metadata": {},
   "outputs": [
    {
     "data": {
      "text/plain": [
       "<matplotlib.text.Text at 0x1159e6390>"
      ]
     },
     "execution_count": 217,
     "metadata": {},
     "output_type": "execute_result"
    },
    {
     "data": {
      "image/png": "[encoded data removed]",
      "text/plain": [
       "<matplotlib.figure.Figure at 0x115842c18>"
      ]
     },
     "metadata": {
      "needs_background": "light"
     },
     "output_type": "display_data"
    }
   ],
   "source": [
    "\n",
    "IFR = conditions[(conditions[:, 1] < 3)]\n",
    "VFR=conditions[(conditions[:,1]>3)]\n",
    "plt.scatter(IFR[:,0],IFR[:,1],color='red',marker='o')\n",
    "plt.scatter(VFR[:, 0], VFR[:, 1], color='blue',marker='v')\n",
    "plt.xlabel('Altitude (feet)')\n",
    "plt.ylabel('Visibility (sm)')\n",
    "plt.title('IFR (red) vs VFR (blue) Conditions')"
   ]
  },
  {
   "cell_type": "markdown",
   "metadata": {},
   "source": [
    "# Teaching The Computer How to Make Decisions"
   ]
  },
  {
   "cell_type": "markdown",
   "metadata": {},
   "source": [
    "For the rest of this Kab we will be playing with diferent algorithms to solve our decision making problem of IFR vs VFR. We have on purpose made the problem linearly separable to apply the most simplistic algorithms first."
   ]
  },
  {
   "cell_type": "markdown",
   "metadata": {},
   "source": [
    "## Splitting our data sample in to a Training Set and a Testing Set"
   ]
  },
  {
   "cell_type": "markdown",
   "metadata": {},
   "source": [
    "For computing convenience let's first change the decision array from 'vfr','ifr' to +1,-1 respectively."
   ]
  },
  {
   "cell_type": "code",
   "execution_count": 218,
   "metadata": {
    "scrolled": true
   },
   "outputs": [],
   "source": [
    "binary_decision = np.where(decision == 'vfr', 1, -1)"
   ]
  },
  {
   "cell_type": "code",
   "execution_count": 219,
   "metadata": {},
   "outputs": [],
   "source": [
    "from sklearn.model_selection import train_test_split\n",
    "conditions_train, conditions_test, binary_decision_train, binary_decision_test = train_test_split(\n",
    "    conditions, binary_decision, test_size=0.3, random_state=1, stratify=binary_decision)"
   ]
  },
  {
   "cell_type": "markdown",
   "metadata": {},
   "source": [
    "Verify that the training set and the test set have the same distribution"
   ]
  },
  {
   "cell_type": "code",
   "execution_count": 220,
   "metadata": {},
   "outputs": [
    {
     "name": "stdout",
     "output_type": "stream",
     "text": [
      "Labels counts in binary_decision: [248 752]\n",
      "Labels counts in binary_decision_train: [174 526]\n",
      "Labels counts in binary_decision_test: [ 74 226]\n"
     ]
    }
   ],
   "source": [
    "#np.bincount does not qccpt negative ints so we replaced -1 by 0\n",
    "print('Labels counts in binary_decision:', np.bincount(np.where(binary_decision==-1,0,1)))\n",
    "print('Labels counts in binary_decision_train:', np.bincount(np.where(binary_decision_train==-1,0,1)))\n",
    "print('Labels counts in binary_decision_test:', np.bincount(np.where(binary_decision_test==-1,0,1)))"
   ]
  },
  {
   "cell_type": "markdown",
   "metadata": {},
   "source": [
    "Standardizing the features to numbers between 0 and 1 seems to be more convenient and helps most algorithms deal with smaller numbers so the execute and converge faster."
   ]
  },
  {
   "cell_type": "code",
   "execution_count": 221,
   "metadata": {},
   "outputs": [
    {
     "name": "stdout",
     "output_type": "stream",
     "text": [
      "2061.0093396725724\n",
      "0.558810170773\n"
     ]
    },
    {
     "name": "stderr",
     "output_type": "stream",
     "text": [
      "/usr/local/Cellar/python3/3.6.2/Frameworks/Python.framework/Versions/3.6/lib/python3.6/site-packages/sklearn/utils/validation.py:590: DataConversionWarning: Data with input dtype object was converted to float64 by StandardScaler.\n",
      "  warnings.warn(msg, DataConversionWarning)\n",
      "/usr/local/Cellar/python3/3.6.2/Frameworks/Python.framework/Versions/3.6/lib/python3.6/site-packages/sklearn/utils/validation.py:590: DataConversionWarning: Data with input dtype object was converted to float64 by StandardScaler.\n",
      "  warnings.warn(msg, DataConversionWarning)\n",
      "/usr/local/Cellar/python3/3.6.2/Frameworks/Python.framework/Versions/3.6/lib/python3.6/site-packages/sklearn/utils/validation.py:590: DataConversionWarning: Data with input dtype object was converted to float64 by StandardScaler.\n",
      "  warnings.warn(msg, DataConversionWarning)\n"
     ]
    }
   ],
   "source": [
    "from sklearn.preprocessing import StandardScaler\n",
    "sc = StandardScaler()\n",
    "sc.fit(conditions_train)\n",
    "#what this does is normalize every feature value to its mean and standard deviation \n",
    "#this is equivalent to the the following operations:\n",
    "#conditions_std=np.copy(conditions)\n",
    "#conditions_std[:,0]=(conditions[:,0]-conditions[:,0].mean())/conditions[:,0].std()\n",
    "#conditions_std[:,1] = (conditions[:, 1] - conditions[:, 1].mean()) / conditions[:, 1].std()\n",
    "conditions_train_std = sc.transform(conditions_train)\n",
    "conditions_test_std = sc.transform(conditions_test)\n",
    "#verify before / after\n",
    "print(conditions_test[0][0])\n",
    "print(conditions_test_std[0][0])"
   ]
  },
  {
   "cell_type": "markdown",
   "metadata": {},
   "source": [
    "## Teaching a Perceptron"
   ]
  },
  {
   "cell_type": "markdown",
   "metadata": {},
   "source": [
    "for a <a href=\"https://en.wikipedia.org/wiki/Perceptron\">refresher on perceptrons</a>\n",
    "<img src=\"https://rasbt.github.io/mlxtend/user_guide/classifier/Perceptron_files/perceptron_schematic.png\" width =\"300\" />"
   ]
  },
  {
   "cell_type": "markdown",
   "metadata": {},
   "source": [
    "### Linearily Seprable Case"
   ]
  },
  {
   "cell_type": "code",
   "execution_count": 222,
   "metadata": {},
   "outputs": [
    {
     "name": "stdout",
     "output_type": "stream",
     "text": [
      "Misclassified samples: 23\n",
      "Accuracy: 0.92\n",
      "Accuracy: 0.92\n",
      "[[ 0.02915366  0.0289705 ]]\n"
     ]
    }
   ],
   "source": [
    "from sklearn.linear_model import Perceptron\n",
    "from sklearn.metrics import accuracy_score\n",
    "#initialize a perceptron\n",
    "ppn = Perceptron(max_iter=1000, eta0=0.01, random_state=100,fit_intercept=True)\n",
    "#train it\n",
    "ppn.fit(conditions_train_std, binary_decision_train)\n",
    "#test it\n",
    "binary_decision_pred = ppn.predict(conditions_test_std)\n",
    "print('Misclassified samples: %d' % (binary_decision_test != binary_decision_pred).sum())\n",
    "print('Accuracy: %.2f' % accuracy_score(binary_decision_test, binary_decision_pred))\n",
    "print('Accuracy: %.2f' % ppn.score(conditions_test_std, binary_decision_test))\n",
    "print(ppn.coef_)"
   ]
  },
  {
   "cell_type": "markdown",
   "metadata": {},
   "source": [
    "Hmmm, looks pretty accurate Let's look at how the learning went progressively and set fit_intercept=False in order not to make it easy on the perceptron (be patient)"
   ]
  },
  {
   "cell_type": "code",
   "execution_count": 223,
   "metadata": {},
   "outputs": [
    {
     "data": {
      "image/png": "[encoded data removed]",
      "text/plain": [
       "<matplotlib.figure.Figure at 0x115a76f28>"
      ]
     },
     "metadata": {
      "needs_background": "light"
     },
     "output_type": "display_data"
    },
    {
     "name": "stdout",
     "output_type": "stream",
     "text": [
      "[[ 0.02952413  0.02191557]]\n"
     ]
    }
   ],
   "source": [
    "errors=[]\n",
    "for _ in range(1,1000):\n",
    "    ppn = Perceptron(max_iter=_, eta0=0.01, random_state=100,fit_intercept=True,shuffle=True)\n",
    "    #train it\n",
    "    ppn.fit(conditions_train_std, binary_decision_train)\n",
    "    #test it\n",
    "    binary_decision_pred = ppn.predict(conditions_test_std)\n",
    "    errors.append((binary_decision_test != binary_decision_pred).sum())\n",
    "\n",
    "plt.plot(range(len(errors)),errors,color='blue',marker='')\n",
    "plt.xlabel('learning iteration')\n",
    "plt.ylabel('number of prediction errors')\n",
    "plt.show()\n",
    "print(ppn.coef_)"
   ]
  },
  {
   "cell_type": "markdown",
   "metadata": {},
   "source": [
    "### Non Linearily Separable"
   ]
  },
  {
   "cell_type": "code",
   "execution_count": 224,
   "metadata": {},
   "outputs": [
    {
     "data": {
      "text/html": [
       "<div>\n",
       "<style scoped>\n",
       "    .dataframe tbody tr th:only-of-type {\n",
       "        vertical-align: middle;\n",
       "    }\n",
       "\n",
       "    .dataframe tbody tr th {\n",
       "        vertical-align: top;\n",
       "    }\n",
       "\n",
       "    .dataframe thead th {\n",
       "        text-align: right;\n",
       "    }\n",
       "</style>\n",
       "<table border=\"1\" class=\"dataframe\">\n",
       "  <thead>\n",
       "    <tr style=\"text-align: right;\">\n",
       "      <th></th>\n",
       "      <th>alt</th>\n",
       "      <th>visi</th>\n",
       "      <th>cond</th>\n",
       "    </tr>\n",
       "  </thead>\n",
       "  <tbody>\n",
       "    <tr>\n",
       "      <th>995</th>\n",
       "      <td>1859.228040</td>\n",
       "      <td>3.393567</td>\n",
       "      <td>vfr</td>\n",
       "    </tr>\n",
       "    <tr>\n",
       "      <th>996</th>\n",
       "      <td>2016.758271</td>\n",
       "      <td>1.273749</td>\n",
       "      <td>vfr</td>\n",
       "    </tr>\n",
       "    <tr>\n",
       "      <th>997</th>\n",
       "      <td>2183.283802</td>\n",
       "      <td>1.679528</td>\n",
       "      <td>vfr</td>\n",
       "    </tr>\n",
       "    <tr>\n",
       "      <th>998</th>\n",
       "      <td>1884.937094</td>\n",
       "      <td>2.418717</td>\n",
       "      <td>ifr</td>\n",
       "    </tr>\n",
       "    <tr>\n",
       "      <th>999</th>\n",
       "      <td>1994.851243</td>\n",
       "      <td>1.617176</td>\n",
       "      <td>ifr</td>\n",
       "    </tr>\n",
       "  </tbody>\n",
       "</table>\n",
       "</div>"
      ],
      "text/plain": [
       "             alt      visi cond\n",
       "995  1859.228040  3.393567  vfr\n",
       "996  2016.758271  1.273749  vfr\n",
       "997  2183.283802  1.679528  vfr\n",
       "998  1884.937094  2.418717  ifr\n",
       "999  1994.851243  1.617176  ifr"
      ]
     },
     "execution_count": 224,
     "metadata": {},
     "output_type": "execute_result"
    }
   ],
   "source": [
    "df = pd.read_csv('training_set_nonseperable.csv')\n",
    "df.tail()"
   ]
  },
  {
   "cell_type": "code",
   "execution_count": 225,
   "metadata": {},
   "outputs": [
    {
     "name": "stdout",
     "output_type": "stream",
     "text": [
      "2158.2454862038226\n",
      "1.31500475825\n",
      "Misclassified samples: 27\n",
      "Accuracy: 0.91\n",
      "Accuracy: 0.91\n",
      "[[ 0.02357042  0.04307217]]\n"
     ]
    },
    {
     "name": "stderr",
     "output_type": "stream",
     "text": [
      "/usr/local/Cellar/python3/3.6.2/Frameworks/Python.framework/Versions/3.6/lib/python3.6/site-packages/sklearn/utils/validation.py:590: DataConversionWarning: Data with input dtype object was converted to float64 by StandardScaler.\n",
      "  warnings.warn(msg, DataConversionWarning)\n",
      "/usr/local/Cellar/python3/3.6.2/Frameworks/Python.framework/Versions/3.6/lib/python3.6/site-packages/sklearn/utils/validation.py:590: DataConversionWarning: Data with input dtype object was converted to float64 by StandardScaler.\n",
      "  warnings.warn(msg, DataConversionWarning)\n",
      "/usr/local/Cellar/python3/3.6.2/Frameworks/Python.framework/Versions/3.6/lib/python3.6/site-packages/sklearn/utils/validation.py:590: DataConversionWarning: Data with input dtype object was converted to float64 by StandardScaler.\n",
      "  warnings.warn(msg, DataConversionWarning)\n"
     ]
    }
   ],
   "source": [
    "#Load it as a numpy array\n",
    "trainingset=np.array(df)\n",
    "#np.random.shuffle(trainingset)\n",
    "# input\n",
    "conditions = np.array(df)[:,[0,1]]\n",
    "# output\n",
    "decision = np.array(df)[:,2]\n",
    "\n",
    "#preprocessing\n",
    "\n",
    "binary_decision = np.where(decision == 'vfr', 1, -1)\n",
    "from sklearn.model_selection import train_test_split\n",
    "conditions_train, conditions_test, binary_decision_train, binary_decision_test = train_test_split(\n",
    "    conditions, binary_decision, test_size=0.3, random_state=1, stratify=binary_decision)\n",
    "\n",
    "\n",
    "from sklearn.preprocessing import StandardScaler\n",
    "sc = StandardScaler()\n",
    "sc.fit(conditions_train)\n",
    "#what this does is normalize every feature value to its mean and standard deviation \n",
    "#this is equivalent to the the following operations:\n",
    "#conditions_std=np.copy(conditions)\n",
    "#conditions_std[:,0]=(conditions[:,0]-conditions[:,0].mean())/conditions[:,0].std()\n",
    "#conditions_std[:,1] = (conditions[:, 1] - conditions[:, 1].mean()) / conditions[:, 1].std()\n",
    "conditions_train_std = sc.transform(conditions_train)\n",
    "conditions_test_std = sc.transform(conditions_test)\n",
    "#verify before / after\n",
    "print(conditions_test[0][0])\n",
    "print(conditions_test_std[0][0])\n",
    "\n",
    "#Learning\n",
    "from sklearn.linear_model import Perceptron\n",
    "from sklearn.metrics import accuracy_score\n",
    "#initialize a perceptron\n",
    "ppn = Perceptron(max_iter=1000, eta0=0.01, random_state=100,fit_intercept=True)\n",
    "#train it\n",
    "ppn.fit(conditions_train_std, binary_decision_train)\n",
    "#test it\n",
    "binary_decision_pred = ppn.predict(conditions_test_std)\n",
    "print('Misclassified samples: %d' % (binary_decision_test != binary_decision_pred).sum())\n",
    "print('Accuracy: %.2f' % accuracy_score(binary_decision_test, binary_decision_pred))\n",
    "print('Accuracy: %.2f' % ppn.score(conditions_test_std, binary_decision_test))\n",
    "print(ppn.coef_)"
   ]
  },
  {
   "cell_type": "code",
   "execution_count": 226,
   "metadata": {},
   "outputs": [
    {
     "data": {
      "image/png": "[encoded data removed]",
      "text/plain": [
       "<matplotlib.figure.Figure at 0x115b49c88>"
      ]
     },
     "metadata": {
      "needs_background": "light"
     },
     "output_type": "display_data"
    },
    {
     "name": "stdout",
     "output_type": "stream",
     "text": [
      "[[ 0.02942106  0.0304286 ]]\n"
     ]
    }
   ],
   "source": [
    "errors=[]\n",
    "for _ in range(1,1000):\n",
    "    ppn = Perceptron(max_iter=_, eta0=0.01, random_state=100,fit_intercept=True,shuffle=True)\n",
    "    #train it\n",
    "    ppn.fit(conditions_train_std, binary_decision_train)\n",
    "    #test it\n",
    "    binary_decision_pred = ppn.predict(conditions_test_std)\n",
    "    errors.append((binary_decision_test != binary_decision_pred).sum())\n",
    "\n",
    "plt.plot(range(len(errors)),errors,color='blue',marker='')\n",
    "plt.xlabel('learning iteration')\n",
    "plt.ylabel('number of prediction errors')\n",
    "plt.show()\n",
    "print(ppn.coef_)"
   ]
  },
  {
   "cell_type": "markdown",
   "metadata": {},
   "source": [
    "Not as easy :)"
   ]
  }
 ],
 "metadata": {
  "kernelspec": {
   "display_name": "Python 3",
   "language": "python",
   "name": "python3"
  },
  "language_info": {
   "codemirror_mode": {
    "name": "ipython",
    "version": 3
   },
   "file_extension": ".py",
   "mimetype": "text/x-python",
   "name": "python",
   "nbconvert_exporter": "python",
   "pygments_lexer": "ipython3",
   "version": "3.6.2"
  }
 },
 "nbformat": 4,
 "nbformat_minor": 2
}
