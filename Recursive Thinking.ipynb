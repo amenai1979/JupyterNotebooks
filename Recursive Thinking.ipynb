{
 "cells": [
  {
   "cell_type": "markdown",
   "metadata": {},
   "source": [
    "# Calculating a sum of numbers\n"
   ]
  },
  {
   "cell_type": "markdown",
   "metadata": {},
   "source": [
    "The 3 laws of recursion:<br>\n",
    "<ul>\n",
    "<li>A recursive algorithm must have a base case.</li>\n",
    "<li>A recursive algorithm must change its state and move toward the base case.</li>\n",
    "<li>A recursive algorithm must call itself, recursively.</li>\n",
    "</ul>"
   ]
  },
  {
   "cell_type": "markdown",
   "metadata": {},
   "source": [
    "## Classical Iterative Function"
   ]
  },
  {
   "cell_type": "code",
   "execution_count": 2,
   "metadata": {},
   "outputs": [
    {
     "data": {
      "text/plain": [
       "28"
      ]
     },
     "execution_count": 2,
     "metadata": {},
     "output_type": "execute_result"
    }
   ],
   "source": [
    "\n",
    "def sumList(items):\n",
    "    listSum=0\n",
    "    for i in items:\n",
    "        listSum += i\n",
    "    return listSum\n",
    "sumList([1,2,3,4,5,6,7])"
   ]
  },
  {
   "cell_type": "markdown",
   "metadata": {},
   "source": [
    "## Recursive Method"
   ]
  },
  {
   "cell_type": "code",
   "execution_count": 4,
   "metadata": {},
   "outputs": [
    {
     "data": {
      "text/plain": [
       "28"
      ]
     },
     "execution_count": 4,
     "metadata": {},
     "output_type": "execute_result"
    }
   ],
   "source": [
    "def sumList(items):\n",
    "    if len(items)==1:#base case\n",
    "        return items[0]\n",
    "    else:\n",
    "        return items[0]+sumList(items[1:])#A recursive algorithm must change its state and move toward the base case.\n",
    "        #A recursive algorithm must call itself, recursively.\n",
    "sumList([1,2,3,4,5,6,7])"
   ]
  },
  {
   "cell_type": "markdown",
   "metadata": {},
   "source": [
    "# Reversing a String Recursively"
   ]
  },
  {
   "cell_type": "code",
   "execution_count": 6,
   "metadata": {},
   "outputs": [
    {
     "data": {
      "text/plain": [
       "'ababila'"
      ]
     },
     "execution_count": 6,
     "metadata": {},
     "output_type": "execute_result"
    }
   ],
   "source": [
    "def reverseString(inStr):\n",
    "    if len(inStr)==1:\n",
    "        return inStr\n",
    "    else:\n",
    "        return reverseString(inStr[1:])+inStr[0]\n",
    "reverseString('alibaba')"
   ]
  },
  {
   "cell_type": "markdown",
   "metadata": {},
   "source": [
    "# Palindrome Check Recursively"
   ]
  },
  {
   "cell_type": "code",
   "execution_count": 8,
   "metadata": {},
   "outputs": [],
   "source": [
    "def palindrome(inStr):\n",
    "    l=len(inStr)\n",
    "    if l<=1:\n",
    "        return True\n",
    "    elif l==2:\n",
    "        return inStr[0]==inStr[l-1]\n",
    "    else:\n",
    "        return (inStr[0]==inStr[l-1]) and palindrome(inStr[1:l-2])\n",
    "        "
   ]
  },
  {
   "cell_type": "code",
   "execution_count": 10,
   "metadata": {},
   "outputs": [
    {
     "data": {
      "text/plain": [
       "True"
      ]
     },
     "execution_count": 10,
     "metadata": {},
     "output_type": "execute_result"
    }
   ],
   "source": [
    "palindrome(\"abba\")"
   ]
  },
  {
   "cell_type": "code",
   "execution_count": 12,
   "metadata": {},
   "outputs": [
    {
     "data": {
      "text/plain": [
       "False"
      ]
     },
     "execution_count": 12,
     "metadata": {},
     "output_type": "execute_result"
    }
   ],
   "source": [
    "palindrome(\"roxette\")"
   ]
  },
  {
   "cell_type": "code",
   "execution_count": 13,
   "metadata": {},
   "outputs": [
    {
     "data": {
      "text/plain": [
       "True"
      ]
     },
     "execution_count": 13,
     "metadata": {},
     "output_type": "execute_result"
    }
   ],
   "source": [
    "palindrome('lol')"
   ]
  },
  {
   "cell_type": "code",
   "execution_count": 14,
   "metadata": {},
   "outputs": [
    {
     "data": {
      "text/plain": [
       "True"
      ]
     },
     "execution_count": 14,
     "metadata": {},
     "output_type": "execute_result"
    }
   ],
   "source": [
    "palindrome('bb')"
   ]
  },
  {
   "cell_type": "code",
   "execution_count": 16,
   "metadata": {},
   "outputs": [
    {
     "data": {
      "text/plain": [
       "True"
      ]
     },
     "execution_count": 16,
     "metadata": {},
     "output_type": "execute_result"
    }
   ],
   "source": [
    "palindrome('b')"
   ]
  },
  {
   "cell_type": "code",
   "execution_count": 17,
   "metadata": {},
   "outputs": [
    {
     "data": {
      "text/plain": [
       "True"
      ]
     },
     "execution_count": 17,
     "metadata": {},
     "output_type": "execute_result"
    }
   ],
   "source": [
    "palindrome('')"
   ]
  },
  {
   "cell_type": "markdown",
   "metadata": {},
   "source": [
    "# Fractals"
   ]
  },
  {
   "cell_type": "markdown",
   "metadata": {},
   "source": [
    "## Tree"
   ]
  },
  {
   "cell_type": "code",
   "execution_count": 1,
   "metadata": {},
   "outputs": [],
   "source": [
    "import turtle\n",
    "\n",
    "\n",
    "def drawBranch(posx, posy, len, angle):\n",
    "    myTurtle = turtle.Turtle()\n",
    "    myTurtle.hideturtle()\n",
    "    myTurtle.penup()\n",
    "    myTurtle.setposition(posx, posy)\n",
    "    myTurtle.pendown()\n",
    "    myTurtle.showturtle()\n",
    "    myTurtle.left(angle)\n",
    "    myTurtle.forward(len)\n",
    "    position=myTurtle.position()\n",
    "    myTurtle.hideturtle()\n",
    "    del myTurtle\n",
    "    return position\n",
    "\n",
    "def drawTree(n=10,posx=0,posy=-400,len=100,angle=90,trunk=False):\n",
    "    if n==0:\n",
    "        return\n",
    "    elif trunk:\n",
    "        position=drawBranch(posx, posy, len, angle)\n",
    "        drawTree(n-1,position[0],position[1],len/2,angle)\n",
    "    else:\n",
    "        #leftbranch\n",
    "        positionl=drawBranch(posx,posy,len,angle-45)\n",
    "        drawTree(n-1,positionl[0],positionl[1],len/2,angle-45)\n",
    "        #rightbranch\n",
    "        positionr=drawBranch(posx,posy,len,angle+45)\n",
    "        drawTree(n-1,positionr[0],positionr[1], len/2,angle+45)\n",
    "\n",
    "\n",
    "if __name__ == '__main__':\n",
    "    win=turtle.Screen()\n",
    "    win.setup(1000,1000)\n",
    "    win.title(\"fractal tree\")\n",
    "    #drawBranch(0, -400, 100, 90)\n",
    "    drawTree(n=7,posx=0,posy=0,len=200,angle=90,trunk=True)\n",
    "    win.exitonclick()"
   ]
  },
  {
   "cell_type": "markdown",
   "metadata": {},
   "source": [
    "<img src=\"fractalTree.png\"/>"
   ]
  },
  {
   "cell_type": "markdown",
   "metadata": {},
   "source": [
    "## Sierpinski Triangle"
   ]
  },
  {
   "cell_type": "code",
   "execution_count": null,
   "metadata": {},
   "outputs": [],
   "source": [
    "import turtle\n",
    "\n",
    "def drawTriangle(posx=-200,posy=-200,length=300,heading=0):\n",
    "\n",
    "    #go to intial position\n",
    "    myTurtle = turtle.Turtle()\n",
    "    myTurtle.hideturtle()\n",
    "    myTurtle.penup()\n",
    "    myTurtle.setposition(posx, posy)\n",
    "    myTurtle.pendown()\n",
    "    myTurtle.setheading(heading)\n",
    "    myTurtle.showturtle()\n",
    "    #draw the triangle\n",
    "    myTurtle.forward(length)\n",
    "    myTurtle.left(120)\n",
    "    myTurtle.forward(length)\n",
    "    myTurtle.left(120)\n",
    "    myTurtle.forward(length)\n",
    "    myTurtle.hideturtle()\n",
    "    del myTurtle\n",
    "\n",
    "def drawSierpinski(n=10, posx=-200, posy=-200, length=300,init=False):\n",
    "    if n == 0:\n",
    "        return\n",
    "\n",
    "    myTurtle = turtle.Turtle()\n",
    "    # initial positioning\n",
    "    myTurtle.hideturtle()\n",
    "    myTurtle.penup()\n",
    "    myTurtle.setposition(posx, posy)\n",
    "    #myTurtle.showturtle()\n",
    "\n",
    "    #first outer triangle\n",
    "    if init:\n",
    "        drawTriangle(posx, posy, length)\n",
    "    # split the triangle into 4 by drawing an internal triangle\n",
    "    drawTriangle(posx+length/2,posy,length/2,heading=60)\n",
    "    #identify the edge triangles by their lower left corner and length\n",
    "    triangle1=(posx,posy,length/2)\n",
    "    triangle2=(posx+length/2,posy,length/2)\n",
    "    #myTurtle.hideturtle()\n",
    "    myTurtle.left(60)\n",
    "    myTurtle.forward(length/2)\n",
    "    triangle3 = (myTurtle.position()[0],myTurtle.position()[1],length/2)\n",
    "\n",
    "    for t in (triangle1,triangle2,triangle3):\n",
    "        drawSierpinski(n - 1, t[0], t[1], t[2])\n",
    "    del myTurtle\n",
    "\n",
    "\n",
    "\n",
    "if __name__=='__main__':\n",
    "    win = turtle.Screen()\n",
    "    win.setup(1000, 1000)\n",
    "    win.title(\"Sierpinski Triangle\")\n",
    "    drawSierpinski(n=3,length=500,init=True)\n",
    "    win.exitonclick()"
   ]
  },
  {
   "cell_type": "markdown",
   "metadata": {},
   "source": [
    "<img src=\"sierpinski.png\"/>"
   ]
  },
  {
   "cell_type": "markdown",
   "metadata": {},
   "source": [
    "# Hanoi Towers"
   ]
  },
  {
   "cell_type": "code",
   "execution_count": 1,
   "metadata": {},
   "outputs": [
    {
     "name": "stdout",
     "output_type": "stream",
     "text": [
      "0:[3, 2, 1, 0]\n",
      "1:[]\n",
      "2:[]\n",
      "----------\n",
      "0:[3, 2, 1]\n",
      "1:[0]\n",
      "2:[]\n",
      "----------\n",
      "0:[3, 2]\n",
      "1:[0]\n",
      "2:[1]\n",
      "----------\n",
      "0:[3, 2]\n",
      "1:[]\n",
      "2:[1, 0]\n",
      "----------\n",
      "0:[3]\n",
      "1:[2]\n",
      "2:[1, 0]\n",
      "----------\n",
      "0:[3, 0]\n",
      "1:[2]\n",
      "2:[1]\n",
      "----------\n",
      "0:[3, 0]\n",
      "1:[2, 1]\n",
      "2:[]\n",
      "----------\n",
      "0:[3]\n",
      "1:[2, 1, 0]\n",
      "2:[]\n",
      "----------\n",
      "0:[]\n",
      "1:[2, 1, 0]\n",
      "2:[3]\n",
      "----------\n",
      "0:[]\n",
      "1:[2, 1]\n",
      "2:[3, 0]\n",
      "----------\n",
      "0:[1]\n",
      "1:[2]\n",
      "2:[3, 0]\n",
      "----------\n",
      "0:[1, 0]\n",
      "1:[2]\n",
      "2:[3]\n",
      "----------\n",
      "0:[1, 0]\n",
      "1:[]\n",
      "2:[3, 2]\n",
      "----------\n",
      "0:[1]\n",
      "1:[0]\n",
      "2:[3, 2]\n",
      "----------\n",
      "0:[]\n",
      "1:[0]\n",
      "2:[3, 2, 1]\n",
      "----------\n",
      "0:[]\n",
      "1:[]\n",
      "2:[3, 2, 1, 0]\n",
      "----------\n"
     ]
    }
   ],
   "source": [
    "\n",
    "class HanoiStack(object):\n",
    "    def __init__(self,elementList:list,position:int=0):\n",
    "        self.elementList = elementList\n",
    "        if position not in {0,1,2}:\n",
    "            raise ValueError(\"position has to be one of {0,1,2)\")\n",
    "            self.position=None\n",
    "        else:\n",
    "            self.position=position\n",
    "    def getPos(self):\n",
    "        return self.position\n",
    "    def __len__(self):\n",
    "        return len(self.elementList)\n",
    "    def __str__(self):\n",
    "        return str(self.position)+\":\"+str(self.elementList)\n",
    "    def append(self,e:object):\n",
    "        self.elementList.append(e)\n",
    "    def pop(self):\n",
    "        return self.elementList.pop()\n",
    "\n",
    "def printStacks(originStack,nterStack,targetStack):\n",
    "    t=[originStack,nterStack,targetStack]\n",
    "    t.sort(key=lambda e: e.getPos())\n",
    "    for s in t:\n",
    "        print(s)\n",
    "    print(\"----------\")\n",
    "\n",
    "def moveStack(originStack,nterStack,targetStack,n):\n",
    "    if n==1:\n",
    "        targetStack.append(originStack.pop())\n",
    "        printStacks(originStack,nterStack,targetStack)\n",
    "    elif n==0:\n",
    "        return\n",
    "    else:\n",
    "        moveStack(originStack,targetStack,nterStack,n-1)\n",
    "        targetStack.append(originStack.pop())\n",
    "        printStacks(originStack,targetStack,nterStack)\n",
    "        moveStack(nterStack,originStack,targetStack,n-1)\n",
    "\n",
    "\n",
    "originStack=HanoiStack(elementList=[3,2,1,0],position=0)\n",
    "nterStack=HanoiStack(elementList=[],position=1)\n",
    "targetStack=HanoiStack(elementList=[],position=2)\n",
    "printStacks(originStack,nterStack,targetStack)\n",
    "moveStack(originStack,nterStack,targetStack,len(originStack))\n",
    "\n",
    "\n",
    "\n"
   ]
  },
  {
   "cell_type": "code",
   "execution_count": null,
   "metadata": {},
   "outputs": [],
   "source": []
  }
 ],
 "metadata": {
  "kernelspec": {
   "display_name": "Python 3",
   "language": "python",
   "name": "python3"
  },
  "language_info": {
   "codemirror_mode": {
    "name": "ipython",
    "version": 3
   },
   "file_extension": ".py",
   "mimetype": "text/x-python",
   "name": "python",
   "nbconvert_exporter": "python",
   "pygments_lexer": "ipython3",
   "version": "3.7.1"
  }
 },
 "nbformat": 4,
 "nbformat_minor": 2
}
